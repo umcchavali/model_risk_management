{
  "cells": [
    {
      "cell_type": "markdown",
      "source": [
        "# HW2: Model Explanability"
      ],
      "metadata": {
        "collapsed": false,
        "id": "c1f18852cd26b43b"
      },
      "id": "c1f18852cd26b43b"
    },
    {
      "cell_type": "markdown",
      "id": "9a445cda-827f-46d1-8da3-319633787f27",
      "metadata": {
        "id": "9a445cda-827f-46d1-8da3-319633787f27"
      },
      "source": [
        "## 1. Load data for modeling.  This data represents taxi rides in NY (from a Kaggle competition)"
      ]
    },
    {
      "cell_type": "code",
      "execution_count": null,
      "id": "initial_id",
      "metadata": {
        "ExecuteTime": {
          "end_time": "2023-10-04T01:10:00.517702500Z",
          "start_time": "2023-10-04T01:10:00.487652400Z"
        },
        "id": "initial_id"
      },
      "outputs": [],
      "source": [
        "import math\n",
        "import scipy\n",
        "import warnings\n",
        "import numpy as np\n",
        "import pandas as pd\n",
        "import matplotlib\n",
        "import seaborn as sns\n",
        "import xgboost as xgb\n",
        "import matplotlib.pylab as plt\n",
        "\n",
        "from sklearn.ensemble import RandomForestRegressor\n",
        "from sklearn.neural_network import MLPRegressor\n",
        "from sklearn.metrics import mean_squared_error, mean_absolute_error, median_absolute_error\n",
        "\n",
        "matplotlib.use('nbagg');\n",
        "warnings.filterwarnings(\"ignore\");\n",
        "%matplotlib inline"
      ]
    },
    {
      "cell_type": "code",
      "source": [
        "# Download the data (public github)\n",
        "!wget -N https://github.com/rfox12-edu/explainability-sandbox/raw/main/x_train.parquet.gzip\n",
        "!wget -N https://github.com/rfox12-edu/explainability-sandbox/raw/main/x_test.parquet.gzip\n",
        "!wget -N https://github.com/rfox12-edu/explainability-sandbox/raw/main/y_train.parquet.gzip\n",
        "!wget -N https://github.com/rfox12-edu/explainability-sandbox/raw/main/y_test.parquet.gzip"
      ],
      "metadata": {
        "id": "xHvIZE1HkE1S"
      },
      "id": "xHvIZE1HkE1S",
      "execution_count": null,
      "outputs": []
    },
    {
      "cell_type": "code",
      "source": [
        "# Load the data into pandas dataframes\n",
        "x_train = pd.read_parquet('x_train.parquet.gzip')\n",
        "x_test = pd.read_parquet('x_test.parquet.gzip')\n",
        "y_train = pd.read_parquet('y_train.parquet.gzip')\n",
        "y_test = pd.read_parquet('y_test.parquet.gzip')"
      ],
      "metadata": {
        "id": "Hlf8XJLR8Fn6"
      },
      "id": "Hlf8XJLR8Fn6",
      "execution_count": null,
      "outputs": []
    },
    {
      "cell_type": "markdown",
      "source": [
        "## 2. Model Build"
      ],
      "metadata": {
        "collapsed": false,
        "id": "1ee70dd525ec780"
      },
      "id": "1ee70dd525ec780"
    },
    {
      "cell_type": "markdown",
      "id": "dae6eda1-7a6e-437d-98dd-c4113c2e727d",
      "metadata": {
        "id": "dae6eda1-7a6e-437d-98dd-c4113c2e727d"
      },
      "source": [
        "### Random Forest Regression"
      ]
    },
    {
      "cell_type": "code",
      "execution_count": null,
      "id": "0f4d06c3-5697-4ce7-82a5-f6f02beee474",
      "metadata": {
        "ExecuteTime": {
          "end_time": "2023-10-04T01:33:59.180069200Z",
          "start_time": "2023-10-04T01:33:58.030362600Z"
        },
        "id": "0f4d06c3-5697-4ce7-82a5-f6f02beee474"
      },
      "outputs": [],
      "source": [
        "regr_rf = RandomForestRegressor(max_features='sqrt', min_samples_leaf = 4,\n",
        "    min_samples_split = 3, n_estimators = 40, n_jobs = -1)\n",
        "regr_rf.fit(x_train, y_train)"
      ]
    },
    {
      "cell_type": "code",
      "execution_count": null,
      "id": "1944061d-4b19-4d0c-992a-f73ada397f0a",
      "metadata": {
        "ExecuteTime": {
          "end_time": "2023-10-04T01:33:59.373577Z",
          "start_time": "2023-10-04T01:33:59.162974100Z"
        },
        "id": "1944061d-4b19-4d0c-992a-f73ada397f0a"
      },
      "outputs": [],
      "source": [
        "y_train_pred_rf = regr_rf.predict(x_train)\n",
        "mse_train_rf = mean_squared_error(y_train, y_train_pred_rf)\n",
        "\n",
        "y_pred_rf = regr_rf.predict(x_test)\n",
        "mse_rf = mean_squared_error(y_test, y_pred_rf)\n",
        "print(mse_rf)"
      ]
    },
    {
      "cell_type": "markdown",
      "id": "26a9a537-a7b5-4047-8483-d03312d54c1c",
      "metadata": {
        "id": "26a9a537-a7b5-4047-8483-d03312d54c1c"
      },
      "source": [
        "### XGboost Regression"
      ]
    },
    {
      "cell_type": "code",
      "execution_count": null,
      "id": "40521f6a-d688-4a02-b18d-ed106362b03c",
      "metadata": {
        "ExecuteTime": {
          "end_time": "2023-10-04T01:34:03.618037700Z",
          "start_time": "2023-10-04T01:33:59.658142400Z"
        },
        "id": "40521f6a-d688-4a02-b18d-ed106362b03c"
      },
      "outputs": [],
      "source": [
        "regr_xgb = xgb.XGBRegressor(\n",
        "    learning_rate=0.1, n_estimators=1000, max_depth=3, min_child_weight=3,\n",
        "    gamma=0, subsample=0.8, reg_alpha=200, reg_lambda=200, colsample_bytree=0.8, n_jobs=-1\n",
        ")\n",
        "regr_xgb.fit(x_train, y_train)"
      ]
    },
    {
      "cell_type": "code",
      "execution_count": null,
      "id": "bd9c5166-70d2-41db-bb76-7713937536a9",
      "metadata": {
        "ExecuteTime": {
          "end_time": "2023-10-04T01:34:04.623859300Z",
          "start_time": "2023-10-04T01:34:03.401980700Z"
        },
        "id": "bd9c5166-70d2-41db-bb76-7713937536a9"
      },
      "outputs": [],
      "source": [
        "# Predicting on train & test data using our trained XgBoost regressor model\n",
        "y_train_pred_xgb = regr_xgb.predict(x_train)\n",
        "mse_train_xgb = mean_squared_error(y_train, y_train_pred_xgb)\n",
        "\n",
        "y_pred_xgb = regr_xgb.predict(x_test)\n",
        "mse_xgb = mean_squared_error(y_test, y_pred_xgb)\n",
        "\n",
        "print(mse_xgb)"
      ]
    },
    {
      "cell_type": "markdown",
      "id": "3a41aaec-1d9c-4ecd-adc2-17d1c5278b0f",
      "metadata": {
        "id": "3a41aaec-1d9c-4ecd-adc2-17d1c5278b0f"
      },
      "source": [
        "### Feed forward NN: MLP"
      ]
    },
    {
      "cell_type": "code",
      "execution_count": null,
      "id": "f1a03ec2-4adc-44df-803f-faa8b7ad8ecf",
      "metadata": {
        "ExecuteTime": {
          "end_time": "2023-10-04T01:34:10.891558700Z",
          "start_time": "2023-10-04T01:34:05.282876200Z"
        },
        "id": "f1a03ec2-4adc-44df-803f-faa8b7ad8ecf"
      },
      "outputs": [],
      "source": [
        "regr_mlp = MLPRegressor(\n",
        "        hidden_layer_sizes=[50, 25],\n",
        "        activation='relu',\n",
        "        solver='adam',\n",
        "        early_stopping=True,\n",
        "        random_state=33\n",
        ")\n",
        "regr_mlp.fit(x_train, y_train)"
      ]
    },
    {
      "cell_type": "code",
      "execution_count": null,
      "id": "a2ac35bf-6c6f-42ad-b439-5c7a5483f50e",
      "metadata": {
        "ExecuteTime": {
          "end_time": "2023-10-04T01:34:10.982984Z",
          "start_time": "2023-10-04T01:34:10.863587Z"
        },
        "id": "a2ac35bf-6c6f-42ad-b439-5c7a5483f50e"
      },
      "outputs": [],
      "source": [
        "y_train_pred_mlp = regr_mlp.predict(x_train)\n",
        "mse_train_mlp = mean_squared_error(y_train, y_train_pred_mlp)\n",
        "\n",
        "y_pred_mlp = regr_mlp.predict(x_test)\n",
        "mse_mlp = mean_squared_error(y_test, y_pred_mlp)\n",
        "\n",
        "print(mse_mlp)"
      ]
    },
    {
      "cell_type": "markdown",
      "source": [
        "### Q1 (5pts): Which model is the most over-fit to its training data?"
      ],
      "metadata": {
        "id": "NAHvwI7NGIdJ"
      },
      "id": "NAHvwI7NGIdJ"
    },
    {
      "cell_type": "markdown",
      "source": [],
      "metadata": {
        "id": "YkNTN_Hr-JIr"
      },
      "id": "YkNTN_Hr-JIr"
    },
    {
      "cell_type": "markdown",
      "source": [
        "### Q2 (5pts): Is AUC an appropriate metric to evaluate these models?  Why or why not?"
      ],
      "metadata": {
        "id": "ves7_17gPYhD"
      },
      "id": "ves7_17gPYhD"
    },
    {
      "cell_type": "markdown",
      "source": [],
      "metadata": {
        "id": "Wgv9SSYa-KB9"
      },
      "id": "Wgv9SSYa-KB9"
    },
    {
      "cell_type": "markdown",
      "source": [
        "# Global Explanability"
      ],
      "metadata": {
        "collapsed": false,
        "id": "beca7353bf70a9be"
      },
      "id": "beca7353bf70a9be"
    },
    {
      "cell_type": "markdown",
      "source": [
        "## Random Forest Feature Importance"
      ],
      "metadata": {
        "id": "AvMjwDY2ZMP5"
      },
      "id": "AvMjwDY2ZMP5"
    },
    {
      "cell_type": "markdown",
      "source": [
        "### Q3 (5pts): Why is it important to look the overall predictive power of a model before looking at feature importance for that model?"
      ],
      "metadata": {
        "id": "pnNRyt4-NkHv"
      },
      "id": "pnNRyt4-NkHv"
    },
    {
      "cell_type": "markdown",
      "source": [],
      "metadata": {
        "id": "ZyLtedDX-MKw"
      },
      "id": "ZyLtedDX-MKw"
    },
    {
      "cell_type": "markdown",
      "source": [
        "### Q4 (5pts): How could you validate that these regression models are providing any predictive power at all? [you do not have to write code to answer this question]"
      ],
      "metadata": {
        "id": "jvvbXhCgOHKi"
      },
      "id": "jvvbXhCgOHKi"
    },
    {
      "cell_type": "markdown",
      "source": [],
      "metadata": {
        "id": "EN44CZ_9-Npz"
      },
      "id": "EN44CZ_9-Npz"
    },
    {
      "cell_type": "code",
      "execution_count": null,
      "id": "13606aa8-fc39-42dd-be33-5e17d151d2c0",
      "metadata": {
        "ExecuteTime": {
          "end_time": "2023-10-04T01:33:59.403490600Z",
          "start_time": "2023-10-04T01:33:59.363855600Z"
        },
        "id": "13606aa8-fc39-42dd-be33-5e17d151d2c0"
      },
      "outputs": [],
      "source": [
        "def plot_feature_importance(importance,names,model_type):\n",
        "\n",
        "    #Create arrays from feature importance and feature names\n",
        "    feature_importance = np.array(importance)\n",
        "    feature_names = np.array(names)\n",
        "\n",
        "    #Create a DataFrame using a Dictionary\n",
        "    data={'feature_names':feature_names,'feature_importance':feature_importance}\n",
        "    fi_df = pd.DataFrame(data)\n",
        "\n",
        "    #Sort the DataFrame in order decreasing feature importance\n",
        "    fi_df.sort_values(by=['feature_importance'], ascending=False,inplace=True)\n",
        "\n",
        "    #Define size of bar plot\n",
        "    plt.figure(figsize=(10,8))\n",
        "    #Plot Searborn bar chart\n",
        "    sns.barplot(x=fi_df['feature_importance'], y=fi_df['feature_names'])\n",
        "    #Add chart labels\n",
        "    plt.title(model_type + ':  FEATURE IMPORTANCE')\n",
        "    plt.xlabel('FEATURE IMPORTANCE')\n",
        "    plt.ylabel('FEATURE NAMES')"
      ]
    },
    {
      "cell_type": "code",
      "execution_count": null,
      "outputs": [],
      "source": [
        "def permutation_based_feature_importance(x_test, y_test, initial_mse, model):\n",
        "\n",
        "    # Initialize an array to store feature importances\n",
        "    feature_importances = np.zeros(x_test.shape[1])\n",
        "\n",
        "    # Number of permutation iterations (you can adjust this value)\n",
        "    num_iterations = 100\n",
        "\n",
        "    # Calculate feature importance by permuting one feature at a time\n",
        "    ####################### CODE HERE ############################\n",
        "    for feature in range(x_test.shape[1]):\n",
        "        print('Permuting feature ',feature + 1)\n",
        "        # Copy the original test data\n",
        "        x_test_permuted = x_test.copy()\n",
        "\n",
        "        # Shuffle the values of the current feature\n",
        "        permuted_column = x_test_permuted.iloc[:, feature]\n",
        "        np.random.shuffle(permuted_column)\n",
        "        x_test_permuted.iloc[:, feature] = permuted_column\n",
        "\n",
        "        # Calculate the accuracy with the permuted feature\n",
        "        permuted_mse = mean_squared_error(y_test, model.predict(x_test_permuted))\n",
        "\n",
        "        # Calculate the drop in accuracy and store it as feature importance\n",
        "        feature_importances[feature] = initial_mse - permuted_mse\n",
        "\n",
        "    # Normalize the feature importances\n",
        "    feature_importances /= feature_importances.sum()\n",
        "\n",
        "    # Get the names of the features (assuming X is a DataFrame)\n",
        "    feature_names = x_test.columns\n",
        "\n",
        "    # Sort features by importance\n",
        "    sorted_idx = np.argsort(feature_importances)\n",
        "\n",
        "    return feature_importances[sorted_idx]"
      ],
      "metadata": {
        "ExecuteTime": {
          "end_time": "2023-10-04T16:14:34.423562300Z",
          "start_time": "2023-10-04T16:14:34.376601600Z"
        },
        "id": "3d777ec8dab414bc"
      },
      "id": "3d777ec8dab414bc"
    },
    {
      "cell_type": "code",
      "execution_count": null,
      "id": "0d199d31-77f8-4354-8365-27fadbc24384",
      "metadata": {
        "ExecuteTime": {
          "end_time": "2023-10-04T01:33:59.667552700Z",
          "start_time": "2023-10-04T01:33:59.380367500Z"
        },
        "id": "0d199d31-77f8-4354-8365-27fadbc24384"
      },
      "outputs": [],
      "source": [
        "plot_feature_importance(regr_rf.feature_importances_,x_train.columns,'RANDOM FOREST')"
      ]
    },
    {
      "cell_type": "code",
      "execution_count": null,
      "outputs": [],
      "source": [
        "permutation_based_feature_importance_rf = permutation_based_feature_importance(x_train, y_train, mse_train_rf, regr_rf)"
      ],
      "metadata": {
        "ExecuteTime": {
          "end_time": "2023-10-04T16:21:09.513177700Z",
          "start_time": "2023-10-04T16:15:31.981342200Z"
        },
        "id": "3c66f0056aafb2e5"
      },
      "id": "3c66f0056aafb2e5"
    },
    {
      "cell_type": "code",
      "execution_count": null,
      "outputs": [],
      "source": [
        "plot_feature_importance(permutation_based_feature_importance_rf,x_train.columns,'Random Forest: Permutation Based')"
      ],
      "metadata": {
        "ExecuteTime": {
          "end_time": "2023-10-04T16:21:09.723448100Z",
          "start_time": "2023-10-04T16:21:09.519578400Z"
        },
        "id": "243f267fb728c9a8"
      },
      "id": "243f267fb728c9a8"
    },
    {
      "cell_type": "markdown",
      "source": [
        "### Q5 (5pts): Is the `weekday` feature important to the `regr_rf` model?"
      ],
      "metadata": {
        "id": "UaUPRnqqJPCc"
      },
      "id": "UaUPRnqqJPCc"
    },
    {
      "cell_type": "markdown",
      "source": [],
      "metadata": {
        "id": "pjyiC30Z-RNB"
      },
      "id": "pjyiC30Z-RNB"
    },
    {
      "cell_type": "markdown",
      "source": [
        "### Q6 (5pts): Is the `weekday` feature important to predicting the target?"
      ],
      "metadata": {
        "id": "63cuxY8hLlvz"
      },
      "id": "63cuxY8hLlvz"
    },
    {
      "cell_type": "markdown",
      "source": [],
      "metadata": {
        "id": "Tj9qwz_D-R6o"
      },
      "id": "Tj9qwz_D-R6o"
    },
    {
      "cell_type": "markdown",
      "source": [
        "### Q7 (10pts): Is the `.feature_importances_` of the `regr_rf` model reliable?  Why or why not?  [hint](https://scikit-learn.org/stable/auto_examples/inspection/plot_permutation_importance.html)"
      ],
      "metadata": {
        "id": "Lssc2DmpLmOs"
      },
      "id": "Lssc2DmpLmOs"
    },
    {
      "cell_type": "markdown",
      "source": [],
      "metadata": {
        "id": "yELmafVY-VE8"
      },
      "id": "yELmafVY-VE8"
    },
    {
      "cell_type": "markdown",
      "source": [
        "### Q8 (5pts): Are there any highly correlated features in this dataset?  Which ones?"
      ],
      "metadata": {
        "id": "sNJduNzVUVqO"
      },
      "id": "sNJduNzVUVqO"
    },
    {
      "cell_type": "markdown",
      "source": [],
      "metadata": {
        "id": "Hz-JH_8w-Wz2"
      },
      "id": "Hz-JH_8w-Wz2"
    },
    {
      "cell_type": "markdown",
      "source": [
        "### Q9 (5pts): What is the impact of highly correlated features on the analysis of feature importance for these models?"
      ],
      "metadata": {
        "id": "GIxUcQjMUvh7"
      },
      "id": "GIxUcQjMUvh7"
    },
    {
      "cell_type": "markdown",
      "source": [],
      "metadata": {
        "id": "MU70h7P--ZEj"
      },
      "id": "MU70h7P--ZEj"
    },
    {
      "cell_type": "markdown",
      "source": [
        "## Random Forest Feature Analysis"
      ],
      "metadata": {
        "id": "ieTSsXkSZcVn"
      },
      "id": "ieTSsXkSZcVn"
    },
    {
      "cell_type": "code",
      "execution_count": null,
      "outputs": [],
      "source": [
        "from sklearn.inspection import PartialDependenceDisplay"
      ],
      "metadata": {
        "ExecuteTime": {
          "end_time": "2023-10-04T16:23:19.554696100Z",
          "start_time": "2023-10-04T16:23:19.507650100Z"
        },
        "id": "d514e8a4bc55365d"
      },
      "id": "d514e8a4bc55365d"
    },
    {
      "cell_type": "code",
      "execution_count": null,
      "outputs": [],
      "source": [
        "common_params = {\n",
        "    \"subsample\": 50,\n",
        "    \"n_jobs\": 2,\n",
        "    \"grid_resolution\": 20,\n",
        "    \"random_state\": 0,\n",
        "}\n",
        "\n",
        "features_info = {\n",
        "    # features of interest\n",
        "    \"features\": [\"exp_avg\", 'weekday', 'ft_1', 'ft_2', (\"exp_avg\", 'weekday'), (\"exp_avg\", 'ft_2')],\n",
        "    # type of partial dependence plot\n",
        "    \"kind\": \"average\"\n",
        "}\n",
        "\n",
        "_, ax = plt.subplots(ncols=2, nrows=3, figsize=(9, 8), constrained_layout=True)\n",
        "display = PartialDependenceDisplay.from_estimator(\n",
        "    regr_rf,\n",
        "    x_train,\n",
        "    **features_info,\n",
        "    ax=ax,\n",
        "    **common_params,\n",
        ")\n",
        "\n",
        "_ = display.figure_.suptitle((\"Partial dependence - Random Forest\"),fontsize=16)"
      ],
      "metadata": {
        "ExecuteTime": {
          "end_time": "2023-10-04T18:17:59.353264400Z",
          "start_time": "2023-10-04T18:17:55.696737200Z"
        },
        "id": "29aa736f87b42c55"
      },
      "id": "29aa736f87b42c55"
    },
    {
      "cell_type": "markdown",
      "source": [
        "### Q8 (5pts): Explain the partial dependence plot of 'exp_avg'."
      ],
      "metadata": {
        "collapsed": false,
        "id": "e23d3cd7d14fc4fa"
      },
      "id": "e23d3cd7d14fc4fa"
    },
    {
      "cell_type": "markdown",
      "source": [],
      "metadata": {
        "id": "UOkinxTb-b4E"
      },
      "id": "UOkinxTb-b4E"
    },
    {
      "cell_type": "markdown",
      "source": [
        "### Q9 (10pts): Is there any interaction between 'exp_avg' and 'weekday'? How about 'exp_avg' and 'ft_2'?\n"
      ],
      "metadata": {
        "collapsed": false,
        "id": "3188786aed60d7da"
      },
      "id": "3188786aed60d7da"
    },
    {
      "cell_type": "markdown",
      "source": [],
      "metadata": {
        "id": "NWwaTG7s-ceE"
      },
      "id": "NWwaTG7s-ceE"
    },
    {
      "cell_type": "code",
      "source": [
        "!pip install shap"
      ],
      "metadata": {
        "id": "X8Wz6n9vOY-O"
      },
      "id": "X8Wz6n9vOY-O",
      "execution_count": null,
      "outputs": []
    },
    {
      "cell_type": "code",
      "execution_count": null,
      "outputs": [],
      "source": [
        "import shap"
      ],
      "metadata": {
        "id": "8616d33a4cb70945"
      },
      "id": "8616d33a4cb70945"
    },
    {
      "cell_type": "code",
      "execution_count": null,
      "outputs": [],
      "source": [
        "explainer_rf = shap.Explainer(regr_rf, x_train)"
      ],
      "metadata": {
        "ExecuteTime": {
          "end_time": "2023-10-04T16:41:15.338861900Z",
          "start_time": "2023-10-04T16:41:12.848625Z"
        },
        "id": "b3cfc77d3fd0dd28"
      },
      "id": "b3cfc77d3fd0dd28"
    },
    {
      "cell_type": "code",
      "source": [
        "shap_values_rf = explainer_rf(x_test[0:1000])"
      ],
      "metadata": {
        "id": "EzO_H59xoWzQ"
      },
      "id": "EzO_H59xoWzQ",
      "execution_count": null,
      "outputs": []
    },
    {
      "cell_type": "code",
      "execution_count": null,
      "outputs": [],
      "source": [
        "shap.summary_plot(shap_values_rf, x_test[0:1000])"
      ],
      "metadata": {
        "ExecuteTime": {
          "end_time": "2023-10-04T16:41:16.989146400Z",
          "start_time": "2023-10-04T16:41:16.788412400Z"
        },
        "id": "d4939690357a86fc"
      },
      "id": "d4939690357a86fc"
    },
    {
      "cell_type": "markdown",
      "source": [
        "### Q10 (5pts): Is `weekday` showing as an important factor on prediction explanations via SHAP?\n"
      ],
      "metadata": {
        "collapsed": false,
        "id": "B8fq67SWsdXv"
      },
      "id": "B8fq67SWsdXv"
    },
    {
      "cell_type": "markdown",
      "source": [],
      "metadata": {
        "id": "olu9sgrG-wPd"
      },
      "id": "olu9sgrG-wPd"
    },
    {
      "cell_type": "markdown",
      "source": [
        "## XGBoost Feature Importance"
      ],
      "metadata": {
        "id": "qvT9DlQGv-mU"
      },
      "id": "qvT9DlQGv-mU"
    },
    {
      "cell_type": "code",
      "execution_count": null,
      "id": "a2fd7310-fc29-4e36-848f-673df9da1ae3",
      "metadata": {
        "ExecuteTime": {
          "end_time": "2023-10-04T01:34:04.627604400Z",
          "start_time": "2023-10-04T01:34:03.977464200Z"
        },
        "id": "a2fd7310-fc29-4e36-848f-673df9da1ae3"
      },
      "outputs": [],
      "source": [
        "plot_feature_importance(regr_xgb.feature_importances_,x_train.columns,'XGBoost')"
      ]
    },
    {
      "cell_type": "code",
      "execution_count": null,
      "outputs": [],
      "source": [
        "permutation_based_feature_importance_xgb = permutation_based_feature_importance(x_train, y_train, mse_train_xgb, regr_xgb)\n",
        "\n",
        "plot_feature_importance(permutation_based_feature_importance_xgb,x_train.columns,'XGBoost: Permutation Based')"
      ],
      "metadata": {
        "ExecuteTime": {
          "end_time": "2023-10-04T16:47:20.483070900Z",
          "start_time": "2023-10-04T16:41:36.671944500Z"
        },
        "id": "7919d454ba2ecd94"
      },
      "id": "7919d454ba2ecd94"
    },
    {
      "cell_type": "markdown",
      "source": [
        "### Q11 (10pts): Based on the permutation-method feature importance chart for the XGBoost model, would you recommend that the model take out the less influential variables ft_1, ft_2, ft_3, ft_4, and ft_5 ?  Why or why not?\n"
      ],
      "metadata": {
        "collapsed": false,
        "id": "JCYXsAu2V5Qc"
      },
      "id": "JCYXsAu2V5Qc"
    },
    {
      "cell_type": "markdown",
      "source": [],
      "metadata": {
        "id": "WnSTQqIu-zPx"
      },
      "id": "WnSTQqIu-zPx"
    },
    {
      "cell_type": "markdown",
      "source": [
        "## XGBoost Feature Analysis"
      ],
      "metadata": {
        "id": "LWctH3HWwJym"
      },
      "id": "LWctH3HWwJym"
    },
    {
      "cell_type": "code",
      "execution_count": null,
      "outputs": [],
      "source": [
        "_, ax = plt.subplots(ncols=2, nrows=3, figsize=(9, 8), constrained_layout=True)\n",
        "display = PartialDependenceDisplay.from_estimator(\n",
        "    regr_xgb,\n",
        "    x_train,\n",
        "    **features_info,\n",
        "    ax=ax,\n",
        "    **common_params,\n",
        ")\n",
        "\n",
        "_ = display.figure_.suptitle((\"Partial dependence - XGBoost\"),fontsize=16)"
      ],
      "metadata": {
        "ExecuteTime": {
          "end_time": "2023-10-04T16:48:58.600659Z",
          "start_time": "2023-10-04T16:47:20.488960300Z"
        },
        "id": "c91f9ba582d8836c"
      },
      "id": "c91f9ba582d8836c"
    },
    {
      "cell_type": "code",
      "execution_count": null,
      "outputs": [],
      "source": [
        "explainer_xgb = shap.Explainer(regr_xgb, x_train)\n",
        "shap_values_xgb = explainer_xgb(x_test[0:100])"
      ],
      "metadata": {
        "ExecuteTime": {
          "end_time": "2023-10-04T16:48:59.568884400Z",
          "start_time": "2023-10-04T16:48:58.606609800Z"
        },
        "id": "a81379c5bbdef70b"
      },
      "id": "a81379c5bbdef70b"
    },
    {
      "cell_type": "code",
      "execution_count": null,
      "outputs": [],
      "source": [
        "shap.summary_plot(shap_values_xgb, x_test[0:100])"
      ],
      "metadata": {
        "ExecuteTime": {
          "end_time": "2023-10-04T16:48:59.773738900Z",
          "start_time": "2023-10-04T16:48:59.573265700Z"
        },
        "id": "eb0d4b082ba45553"
      },
      "id": "eb0d4b082ba45553"
    },
    {
      "cell_type": "markdown",
      "source": [
        "## MLP Feature Importance"
      ],
      "metadata": {
        "id": "zI2aXxixwQLM"
      },
      "id": "zI2aXxixwQLM"
    },
    {
      "cell_type": "code",
      "execution_count": null,
      "id": "393b9426-3d04-4c6f-8495-b22766380a7e",
      "metadata": {
        "ExecuteTime": {
          "end_time": "2023-10-04T16:54:49.425147600Z",
          "start_time": "2023-10-04T16:48:59.915808700Z"
        },
        "id": "393b9426-3d04-4c6f-8495-b22766380a7e"
      },
      "outputs": [],
      "source": [
        "permutation_based_feature_importance_mlp = permutation_based_feature_importance(x_train, y_train, mse_train_mlp, regr_mlp)\n",
        "\n",
        "plot_feature_importance(permutation_based_feature_importance_mlp,x_train.columns,'MLP: Permutation Based')"
      ]
    },
    {
      "cell_type": "markdown",
      "source": [
        "## MLP Feature Analysis"
      ],
      "metadata": {
        "id": "mq9CLDj2wjT7"
      },
      "id": "mq9CLDj2wjT7"
    },
    {
      "cell_type": "code",
      "execution_count": null,
      "outputs": [],
      "source": [
        "_, ax = plt.subplots(ncols=2, nrows=3, figsize=(9, 8), constrained_layout=True)\n",
        "display = PartialDependenceDisplay.from_estimator(\n",
        "    regr_mlp,\n",
        "    x_train,\n",
        "    **features_info,\n",
        "    ax=ax,\n",
        "    **common_params,\n",
        ")\n",
        "\n",
        "_ = display.figure_.suptitle((\"Partial dependence - MLP\"),fontsize=16)"
      ],
      "metadata": {
        "ExecuteTime": {
          "end_time": "2023-10-04T18:18:42.378237700Z",
          "start_time": "2023-10-04T18:18:14.165476700Z"
        },
        "id": "4e78562b16004df8"
      },
      "id": "4e78562b16004df8"
    },
    {
      "cell_type": "code",
      "execution_count": null,
      "id": "98e4d778-2521-4d26-ace4-325f27357a2d",
      "metadata": {
        "ExecuteTime": {
          "end_time": "2023-10-04T16:55:35.378846Z",
          "start_time": "2023-10-04T16:55:21.778352700Z"
        },
        "id": "98e4d778-2521-4d26-ace4-325f27357a2d"
      },
      "outputs": [],
      "source": [
        "# for NN, we use 'KernelExplainer', but it's very very slow. So we use 'shap.sample' to sample a subset.\n",
        "n_samples = 100\n",
        "explainer_mlp = shap.KernelExplainer(regr_mlp.predict, shap.sample(x_train, n_samples))"
      ]
    },
    {
      "cell_type": "code",
      "source": [
        "shap_values_mlp = explainer_mlp(x_test[0:100])"
      ],
      "metadata": {
        "id": "ADZKRI4lNvnC"
      },
      "id": "ADZKRI4lNvnC",
      "execution_count": null,
      "outputs": []
    },
    {
      "cell_type": "code",
      "execution_count": null,
      "outputs": [],
      "source": [
        "shap.summary_plot(shap_values_mlp, x_test[0:100])"
      ],
      "metadata": {
        "ExecuteTime": {
          "end_time": "2023-10-04T16:55:35.581731Z",
          "start_time": "2023-10-04T16:55:35.379898500Z"
        },
        "id": "1b2b1ba050fbc28b"
      },
      "id": "1b2b1ba050fbc28b"
    },
    {
      "cell_type": "markdown",
      "source": [
        "# Local Explainability"
      ],
      "metadata": {
        "collapsed": false,
        "id": "1905d4f51d920687"
      },
      "id": "1905d4f51d920687"
    },
    {
      "cell_type": "markdown",
      "source": [
        "## Random Forest SHAP"
      ],
      "metadata": {
        "id": "giTvbLqcLqVD"
      },
      "id": "giTvbLqcLqVD"
    },
    {
      "cell_type": "code",
      "source": [
        "x_test[:1]"
      ],
      "metadata": {
        "id": "xP_YLi9wz26f"
      },
      "id": "xP_YLi9wz26f",
      "execution_count": null,
      "outputs": []
    },
    {
      "cell_type": "code",
      "source": [
        "print('Actual:', y_test['target'].iloc[0], 'Random Forest:', y_pred_rf[:1], 'XGBoost:', y_pred_xgb[:1], 'MLP:', y_pred_mlp[:1])"
      ],
      "metadata": {
        "id": "5LOEV9yp3emq"
      },
      "id": "5LOEV9yp3emq",
      "execution_count": null,
      "outputs": []
    },
    {
      "cell_type": "code",
      "source": [
        "shap.plots.waterfall(shap_values_rf[0])"
      ],
      "metadata": {
        "id": "8uQbJ2AIBgu8"
      },
      "id": "8uQbJ2AIBgu8",
      "execution_count": null,
      "outputs": []
    },
    {
      "cell_type": "code",
      "execution_count": null,
      "outputs": [],
      "source": [
        "shap.plots.bar(shap_values_rf[0])"
      ],
      "metadata": {
        "ExecuteTime": {
          "end_time": "2023-10-04T16:41:18.623078Z",
          "start_time": "2023-10-04T16:41:18.372721200Z"
        },
        "id": "adf86a33ba84db9d"
      },
      "id": "adf86a33ba84db9d"
    },
    {
      "cell_type": "markdown",
      "source": [
        "### Q12 (5pts): What is the difference between the plots shown by `shap.plots.waterfall` and `shap.plots.bar`?"
      ],
      "metadata": {
        "id": "vwIhTQf2Lccg"
      },
      "id": "vwIhTQf2Lccg"
    },
    {
      "cell_type": "markdown",
      "source": [],
      "metadata": {
        "id": "niGFrGBa-4NR"
      },
      "id": "niGFrGBa-4NR"
    },
    {
      "cell_type": "code",
      "source": [
        "shap.plots.waterfall(shap_values_xgb[0])"
      ],
      "metadata": {
        "id": "IWoILkZbMv0s"
      },
      "id": "IWoILkZbMv0s",
      "execution_count": null,
      "outputs": []
    },
    {
      "cell_type": "code",
      "source": [
        "shap.plots.waterfall(shap_values_mlp[0])"
      ],
      "metadata": {
        "id": "TG_mi5G4MUMn"
      },
      "id": "TG_mi5G4MUMn",
      "execution_count": null,
      "outputs": []
    },
    {
      "cell_type": "markdown",
      "source": [
        "### Q13 (5pts): How is it possible that two models (like the XGBoost and MLP models above) can have very similar permutation feature importance but very different SHAP explanations for the same data point?"
      ],
      "metadata": {
        "id": "FtiK2lwQh63M"
      },
      "id": "FtiK2lwQh63M"
    },
    {
      "cell_type": "markdown",
      "source": [],
      "metadata": {
        "id": "c1Dl9X1B-6pH"
      },
      "id": "c1Dl9X1B-6pH"
    },
    {
      "cell_type": "code",
      "execution_count": null,
      "outputs": [],
      "source": [
        "test_prediction = x_test[0:1].assign(lon=-95.369804,lat=29.760427)\n",
        "test_prediction"
      ],
      "metadata": {
        "id": "7a94eb84f0e699ae"
      },
      "id": "7a94eb84f0e699ae"
    },
    {
      "cell_type": "code",
      "source": [
        "shap_values_test = explainer_xgb(test_prediction)\n",
        "shap.plots.waterfall(shap_values_test[0])"
      ],
      "metadata": {
        "id": "PSHvlXmkaaj2"
      },
      "id": "PSHvlXmkaaj2",
      "execution_count": null,
      "outputs": []
    },
    {
      "cell_type": "markdown",
      "source": [
        "### Q14 (5pts): Are feature effects independent from each other in our SHAP XGBoost explainer?"
      ],
      "metadata": {
        "id": "oslCQ6rYcnZH"
      },
      "id": "oslCQ6rYcnZH"
    },
    {
      "cell_type": "markdown",
      "source": [],
      "metadata": {
        "id": "gaobAnpI-8qE"
      },
      "id": "gaobAnpI-8qE"
    },
    {
      "cell_type": "markdown",
      "source": [
        "### Q15 (5pts): `lon=-95.369804,lat=29.760427` is Houston, TX.  What would a data scientist need to do to create good explanations for this region?"
      ],
      "metadata": {
        "id": "DpSVBtr3dJkJ"
      },
      "id": "DpSVBtr3dJkJ"
    },
    {
      "cell_type": "markdown",
      "source": [],
      "metadata": {
        "id": "Pcz2FLjN-9NK"
      },
      "id": "Pcz2FLjN-9NK"
    }
  ],
  "metadata": {
    "kernelspec": {
      "display_name": "Python 3 (ipykernel)",
      "language": "python",
      "name": "python3"
    },
    "language_info": {
      "codemirror_mode": {
        "name": "ipython",
        "version": 3
      },
      "file_extension": ".py",
      "mimetype": "text/x-python",
      "name": "python",
      "nbconvert_exporter": "python",
      "pygments_lexer": "ipython3",
      "version": "3.9.0"
    },
    "colab": {
      "provenance": [],
      "toc_visible": true
    }
  },
  "nbformat": 4,
  "nbformat_minor": 5
}