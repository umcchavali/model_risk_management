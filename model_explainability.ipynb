{
  "cells": [
    {
      "cell_type": "markdown",
      "id": "c1f18852cd26b43b",
      "metadata": {
        "collapsed": false,
        "id": "c1f18852cd26b43b"
      },
      "source": [
        "# HW2: Model Explanability"
      ]
    },
    {
      "cell_type": "markdown",
      "id": "9a445cda-827f-46d1-8da3-319633787f27",
      "metadata": {
        "id": "9a445cda-827f-46d1-8da3-319633787f27"
      },
      "source": [
        "## 1. Load data for modeling.  This data represents taxi rides in NY (from a Kaggle competition)"
      ]
    },
    {
      "cell_type": "code",
      "execution_count": 1,
      "id": "initial_id",
      "metadata": {
        "ExecuteTime": {
          "end_time": "2023-10-04T01:10:00.517702500Z",
          "start_time": "2023-10-04T01:10:00.487652400Z"
        },
        "id": "initial_id"
      },
      "outputs": [],
      "source": [
        "import math\n",
        "import scipy\n",
        "import warnings\n",
        "import numpy as np\n",
        "import pandas as pd\n",
        "import matplotlib\n",
        "import seaborn as sns\n",
        "import xgboost as xgb\n",
        "import matplotlib.pylab as plt\n",
        "\n",
        "from sklearn.ensemble import RandomForestRegressor\n",
        "from sklearn.neural_network import MLPRegressor\n",
        "from sklearn.metrics import mean_squared_error, mean_absolute_error, median_absolute_error\n",
        "\n",
        "matplotlib.use('nbagg');\n",
        "warnings.filterwarnings(\"ignore\");\n",
        "%matplotlib inline"
      ]
    },
    {
      "cell_type": "code",
      "execution_count": 2,
      "id": "xHvIZE1HkE1S",
      "metadata": {
        "id": "xHvIZE1HkE1S"
      },
      "outputs": [
        {
          "name": "stderr",
          "output_type": "stream",
          "text": [
            "'wget' is not recognized as an internal or external command,\n",
            "operable program or batch file.\n",
            "'wget' is not recognized as an internal or external command,\n",
            "operable program or batch file.\n",
            "'wget' is not recognized as an internal or external command,\n",
            "operable program or batch file.\n",
            "'wget' is not recognized as an internal or external command,\n",
            "operable program or batch file.\n"
          ]
        }
      ],
      "source": [
        "# Download the data (public github)\n",
        "!wget -N https://github.com/rfox12-edu/explainability-sandbox/raw/main/x_train.parquet.gzip\n",
        "!wget -N https://github.com/rfox12-edu/explainability-sandbox/raw/main/x_test.parquet.gzip\n",
        "!wget -N https://github.com/rfox12-edu/explainability-sandbox/raw/main/y_train.parquet.gzip\n",
        "!wget -N https://github.com/rfox12-edu/explainability-sandbox/raw/main/y_test.parquet.gzip"
      ]
    },
    {
      "cell_type": "code",
      "execution_count": 6,
      "id": "ed4f271c",
      "metadata": {},
      "outputs": [],
      "source": [
        "import requests\n",
        "\n",
        "urls = [\n",
        "    \"https://github.com/rfox12-edu/explainability-sandbox/raw/main/x_train.parquet.gzip\",\n",
        "    \"https://github.com/rfox12-edu/explainability-sandbox/raw/main/x_test.parquet.gzip\",\n",
        "    \"https://github.com/rfox12-edu/explainability-sandbox/raw/main/y_train.parquet.gzip\",\n",
        "    \"https://github.com/rfox12-edu/explainability-sandbox/raw/main/y_test.parquet.gzip\"\n",
        "]\n",
        "\n",
        "filenames = [\n",
        "    \"x_train.parquet.gzip\",\n",
        "    \"x_test.parquet.gzip\",\n",
        "    \"y_train.parquet.gzip\",\n",
        "    \"y_test.parquet.gzip\"\n",
        "]\n",
        "\n",
        "for url, filename in zip(urls, filenames):\n",
        "    response = requests.get(url)\n",
        "    with open(filename, 'wb') as f:\n",
        "        f.write(response.content)\n"
      ]
    },
    {
      "cell_type": "code",
      "execution_count": 8,
      "id": "Hlf8XJLR8Fn6",
      "metadata": {
        "id": "Hlf8XJLR8Fn6"
      },
      "outputs": [],
      "source": [
        "# Load the data into pandas dataframes\n",
        "x_train = pd.read_parquet('data/x_train.parquet.gzip')\n",
        "x_test = pd.read_parquet('data/x_test.parquet.gzip')\n",
        "y_train = pd.read_parquet('data/y_train.parquet.gzip')\n",
        "y_test = pd.read_parquet('data/y_test.parquet.gzip')"
      ]
    },
    {
      "cell_type": "markdown",
      "id": "1ee70dd525ec780",
      "metadata": {
        "collapsed": false,
        "id": "1ee70dd525ec780"
      },
      "source": [
        "## 2. Model Build"
      ]
    },
    {
      "cell_type": "markdown",
      "id": "dae6eda1-7a6e-437d-98dd-c4113c2e727d",
      "metadata": {
        "id": "dae6eda1-7a6e-437d-98dd-c4113c2e727d"
      },
      "source": [
        "### Random Forest Regression"
      ]
    },
    {
      "cell_type": "code",
      "execution_count": 9,
      "id": "0f4d06c3-5697-4ce7-82a5-f6f02beee474",
      "metadata": {
        "ExecuteTime": {
          "end_time": "2023-10-04T01:33:59.180069200Z",
          "start_time": "2023-10-04T01:33:58.030362600Z"
        },
        "id": "0f4d06c3-5697-4ce7-82a5-f6f02beee474"
      },
      "outputs": [
        {
          "data": {
            "text/html": [
              "<style>#sk-container-id-1 {color: black;}#sk-container-id-1 pre{padding: 0;}#sk-container-id-1 div.sk-toggleable {background-color: white;}#sk-container-id-1 label.sk-toggleable__label {cursor: pointer;display: block;width: 100%;margin-bottom: 0;padding: 0.3em;box-sizing: border-box;text-align: center;}#sk-container-id-1 label.sk-toggleable__label-arrow:before {content: \"▸\";float: left;margin-right: 0.25em;color: #696969;}#sk-container-id-1 label.sk-toggleable__label-arrow:hover:before {color: black;}#sk-container-id-1 div.sk-estimator:hover label.sk-toggleable__label-arrow:before {color: black;}#sk-container-id-1 div.sk-toggleable__content {max-height: 0;max-width: 0;overflow: hidden;text-align: left;background-color: #f0f8ff;}#sk-container-id-1 div.sk-toggleable__content pre {margin: 0.2em;color: black;border-radius: 0.25em;background-color: #f0f8ff;}#sk-container-id-1 input.sk-toggleable__control:checked~div.sk-toggleable__content {max-height: 200px;max-width: 100%;overflow: auto;}#sk-container-id-1 input.sk-toggleable__control:checked~label.sk-toggleable__label-arrow:before {content: \"▾\";}#sk-container-id-1 div.sk-estimator input.sk-toggleable__control:checked~label.sk-toggleable__label {background-color: #d4ebff;}#sk-container-id-1 div.sk-label input.sk-toggleable__control:checked~label.sk-toggleable__label {background-color: #d4ebff;}#sk-container-id-1 input.sk-hidden--visually {border: 0;clip: rect(1px 1px 1px 1px);clip: rect(1px, 1px, 1px, 1px);height: 1px;margin: -1px;overflow: hidden;padding: 0;position: absolute;width: 1px;}#sk-container-id-1 div.sk-estimator {font-family: monospace;background-color: #f0f8ff;border: 1px dotted black;border-radius: 0.25em;box-sizing: border-box;margin-bottom: 0.5em;}#sk-container-id-1 div.sk-estimator:hover {background-color: #d4ebff;}#sk-container-id-1 div.sk-parallel-item::after {content: \"\";width: 100%;border-bottom: 1px solid gray;flex-grow: 1;}#sk-container-id-1 div.sk-label:hover label.sk-toggleable__label {background-color: #d4ebff;}#sk-container-id-1 div.sk-serial::before {content: \"\";position: absolute;border-left: 1px solid gray;box-sizing: border-box;top: 0;bottom: 0;left: 50%;z-index: 0;}#sk-container-id-1 div.sk-serial {display: flex;flex-direction: column;align-items: center;background-color: white;padding-right: 0.2em;padding-left: 0.2em;position: relative;}#sk-container-id-1 div.sk-item {position: relative;z-index: 1;}#sk-container-id-1 div.sk-parallel {display: flex;align-items: stretch;justify-content: center;background-color: white;position: relative;}#sk-container-id-1 div.sk-item::before, #sk-container-id-1 div.sk-parallel-item::before {content: \"\";position: absolute;border-left: 1px solid gray;box-sizing: border-box;top: 0;bottom: 0;left: 50%;z-index: -1;}#sk-container-id-1 div.sk-parallel-item {display: flex;flex-direction: column;z-index: 1;position: relative;background-color: white;}#sk-container-id-1 div.sk-parallel-item:first-child::after {align-self: flex-end;width: 50%;}#sk-container-id-1 div.sk-parallel-item:last-child::after {align-self: flex-start;width: 50%;}#sk-container-id-1 div.sk-parallel-item:only-child::after {width: 0;}#sk-container-id-1 div.sk-dashed-wrapped {border: 1px dashed gray;margin: 0 0.4em 0.5em 0.4em;box-sizing: border-box;padding-bottom: 0.4em;background-color: white;}#sk-container-id-1 div.sk-label label {font-family: monospace;font-weight: bold;display: inline-block;line-height: 1.2em;}#sk-container-id-1 div.sk-label-container {text-align: center;}#sk-container-id-1 div.sk-container {/* jupyter's `normalize.less` sets `[hidden] { display: none; }` but bootstrap.min.css set `[hidden] { display: none !important; }` so we also need the `!important` here to be able to override the default hidden behavior on the sphinx rendered scikit-learn.org. See: https://github.com/scikit-learn/scikit-learn/issues/21755 */display: inline-block !important;position: relative;}#sk-container-id-1 div.sk-text-repr-fallback {display: none;}</style><div id=\"sk-container-id-1\" class=\"sk-top-container\"><div class=\"sk-text-repr-fallback\"><pre>RandomForestRegressor(max_features=&#x27;sqrt&#x27;, min_samples_leaf=4,\n",
              "                      min_samples_split=3, n_estimators=40, n_jobs=-1)</pre><b>In a Jupyter environment, please rerun this cell to show the HTML representation or trust the notebook. <br />On GitHub, the HTML representation is unable to render, please try loading this page with nbviewer.org.</b></div><div class=\"sk-container\" hidden><div class=\"sk-item\"><div class=\"sk-estimator sk-toggleable\"><input class=\"sk-toggleable__control sk-hidden--visually\" id=\"sk-estimator-id-1\" type=\"checkbox\" checked><label for=\"sk-estimator-id-1\" class=\"sk-toggleable__label sk-toggleable__label-arrow\">RandomForestRegressor</label><div class=\"sk-toggleable__content\"><pre>RandomForestRegressor(max_features=&#x27;sqrt&#x27;, min_samples_leaf=4,\n",
              "                      min_samples_split=3, n_estimators=40, n_jobs=-1)</pre></div></div></div></div></div>"
            ],
            "text/plain": [
              "RandomForestRegressor(max_features='sqrt', min_samples_leaf=4,\n",
              "                      min_samples_split=3, n_estimators=40, n_jobs=-1)"
            ]
          },
          "execution_count": 9,
          "metadata": {},
          "output_type": "execute_result"
        }
      ],
      "source": [
        "regr_rf = RandomForestRegressor(max_features='sqrt', min_samples_leaf = 4,\n",
        "    min_samples_split = 3, n_estimators = 40, n_jobs = -1)\n",
        "regr_rf.fit(x_train, y_train)"
      ]
    },
    {
      "cell_type": "code",
      "execution_count": 10,
      "id": "1944061d-4b19-4d0c-992a-f73ada397f0a",
      "metadata": {
        "ExecuteTime": {
          "end_time": "2023-10-04T01:33:59.373577Z",
          "start_time": "2023-10-04T01:33:59.162974100Z"
        },
        "id": "1944061d-4b19-4d0c-992a-f73ada397f0a"
      },
      "outputs": [
        {
          "name": "stdout",
          "output_type": "stream",
          "text": [
            "166.62148138918363\n"
          ]
        }
      ],
      "source": [
        "y_train_pred_rf = regr_rf.predict(x_train)\n",
        "mse_train_rf = mean_squared_error(y_train, y_train_pred_rf)\n",
        "\n",
        "y_pred_rf = regr_rf.predict(x_test)\n",
        "mse_rf = mean_squared_error(y_test, y_pred_rf)\n",
        "print(mse_rf)"
      ]
    },
    {
      "cell_type": "code",
      "execution_count": 15,
      "id": "d16bf7db",
      "metadata": {},
      "outputs": [
        {
          "name": "stdout",
          "output_type": "stream",
          "text": [
            "Training MSE (Random Forest): 83.25426762280827\n",
            "Test MSE (Random Forest): 166.62148138918363\n"
          ]
        }
      ],
      "source": [
        "print(\"Training MSE (Random Forest):\", mse_train_rf)\n",
        "print(\"Test MSE (Random Forest):\", mse_rf)"
      ]
    },
    {
      "cell_type": "markdown",
      "id": "26a9a537-a7b5-4047-8483-d03312d54c1c",
      "metadata": {
        "id": "26a9a537-a7b5-4047-8483-d03312d54c1c"
      },
      "source": [
        "### XGboost Regression"
      ]
    },
    {
      "cell_type": "code",
      "execution_count": 11,
      "id": "40521f6a-d688-4a02-b18d-ed106362b03c",
      "metadata": {
        "ExecuteTime": {
          "end_time": "2023-10-04T01:34:03.618037700Z",
          "start_time": "2023-10-04T01:33:59.658142400Z"
        },
        "id": "40521f6a-d688-4a02-b18d-ed106362b03c"
      },
      "outputs": [
        {
          "data": {
            "text/html": [
              "<style>#sk-container-id-2 {color: black;}#sk-container-id-2 pre{padding: 0;}#sk-container-id-2 div.sk-toggleable {background-color: white;}#sk-container-id-2 label.sk-toggleable__label {cursor: pointer;display: block;width: 100%;margin-bottom: 0;padding: 0.3em;box-sizing: border-box;text-align: center;}#sk-container-id-2 label.sk-toggleable__label-arrow:before {content: \"▸\";float: left;margin-right: 0.25em;color: #696969;}#sk-container-id-2 label.sk-toggleable__label-arrow:hover:before {color: black;}#sk-container-id-2 div.sk-estimator:hover label.sk-toggleable__label-arrow:before {color: black;}#sk-container-id-2 div.sk-toggleable__content {max-height: 0;max-width: 0;overflow: hidden;text-align: left;background-color: #f0f8ff;}#sk-container-id-2 div.sk-toggleable__content pre {margin: 0.2em;color: black;border-radius: 0.25em;background-color: #f0f8ff;}#sk-container-id-2 input.sk-toggleable__control:checked~div.sk-toggleable__content {max-height: 200px;max-width: 100%;overflow: auto;}#sk-container-id-2 input.sk-toggleable__control:checked~label.sk-toggleable__label-arrow:before {content: \"▾\";}#sk-container-id-2 div.sk-estimator input.sk-toggleable__control:checked~label.sk-toggleable__label {background-color: #d4ebff;}#sk-container-id-2 div.sk-label input.sk-toggleable__control:checked~label.sk-toggleable__label {background-color: #d4ebff;}#sk-container-id-2 input.sk-hidden--visually {border: 0;clip: rect(1px 1px 1px 1px);clip: rect(1px, 1px, 1px, 1px);height: 1px;margin: -1px;overflow: hidden;padding: 0;position: absolute;width: 1px;}#sk-container-id-2 div.sk-estimator {font-family: monospace;background-color: #f0f8ff;border: 1px dotted black;border-radius: 0.25em;box-sizing: border-box;margin-bottom: 0.5em;}#sk-container-id-2 div.sk-estimator:hover {background-color: #d4ebff;}#sk-container-id-2 div.sk-parallel-item::after {content: \"\";width: 100%;border-bottom: 1px solid gray;flex-grow: 1;}#sk-container-id-2 div.sk-label:hover label.sk-toggleable__label {background-color: #d4ebff;}#sk-container-id-2 div.sk-serial::before {content: \"\";position: absolute;border-left: 1px solid gray;box-sizing: border-box;top: 0;bottom: 0;left: 50%;z-index: 0;}#sk-container-id-2 div.sk-serial {display: flex;flex-direction: column;align-items: center;background-color: white;padding-right: 0.2em;padding-left: 0.2em;position: relative;}#sk-container-id-2 div.sk-item {position: relative;z-index: 1;}#sk-container-id-2 div.sk-parallel {display: flex;align-items: stretch;justify-content: center;background-color: white;position: relative;}#sk-container-id-2 div.sk-item::before, #sk-container-id-2 div.sk-parallel-item::before {content: \"\";position: absolute;border-left: 1px solid gray;box-sizing: border-box;top: 0;bottom: 0;left: 50%;z-index: -1;}#sk-container-id-2 div.sk-parallel-item {display: flex;flex-direction: column;z-index: 1;position: relative;background-color: white;}#sk-container-id-2 div.sk-parallel-item:first-child::after {align-self: flex-end;width: 50%;}#sk-container-id-2 div.sk-parallel-item:last-child::after {align-self: flex-start;width: 50%;}#sk-container-id-2 div.sk-parallel-item:only-child::after {width: 0;}#sk-container-id-2 div.sk-dashed-wrapped {border: 1px dashed gray;margin: 0 0.4em 0.5em 0.4em;box-sizing: border-box;padding-bottom: 0.4em;background-color: white;}#sk-container-id-2 div.sk-label label {font-family: monospace;font-weight: bold;display: inline-block;line-height: 1.2em;}#sk-container-id-2 div.sk-label-container {text-align: center;}#sk-container-id-2 div.sk-container {/* jupyter's `normalize.less` sets `[hidden] { display: none; }` but bootstrap.min.css set `[hidden] { display: none !important; }` so we also need the `!important` here to be able to override the default hidden behavior on the sphinx rendered scikit-learn.org. See: https://github.com/scikit-learn/scikit-learn/issues/21755 */display: inline-block !important;position: relative;}#sk-container-id-2 div.sk-text-repr-fallback {display: none;}</style><div id=\"sk-container-id-2\" class=\"sk-top-container\"><div class=\"sk-text-repr-fallback\"><pre>XGBRegressor(base_score=None, booster=None, callbacks=None,\n",
              "             colsample_bylevel=None, colsample_bynode=None,\n",
              "             colsample_bytree=0.8, device=None, early_stopping_rounds=None,\n",
              "             enable_categorical=False, eval_metric=None, feature_types=None,\n",
              "             gamma=0, grow_policy=None, importance_type=None,\n",
              "             interaction_constraints=None, learning_rate=0.1, max_bin=None,\n",
              "             max_cat_threshold=None, max_cat_to_onehot=None,\n",
              "             max_delta_step=None, max_depth=3, max_leaves=None,\n",
              "             min_child_weight=3, missing=nan, monotone_constraints=None,\n",
              "             multi_strategy=None, n_estimators=1000, n_jobs=-1,\n",
              "             num_parallel_tree=None, random_state=None, ...)</pre><b>In a Jupyter environment, please rerun this cell to show the HTML representation or trust the notebook. <br />On GitHub, the HTML representation is unable to render, please try loading this page with nbviewer.org.</b></div><div class=\"sk-container\" hidden><div class=\"sk-item\"><div class=\"sk-estimator sk-toggleable\"><input class=\"sk-toggleable__control sk-hidden--visually\" id=\"sk-estimator-id-2\" type=\"checkbox\" checked><label for=\"sk-estimator-id-2\" class=\"sk-toggleable__label sk-toggleable__label-arrow\">XGBRegressor</label><div class=\"sk-toggleable__content\"><pre>XGBRegressor(base_score=None, booster=None, callbacks=None,\n",
              "             colsample_bylevel=None, colsample_bynode=None,\n",
              "             colsample_bytree=0.8, device=None, early_stopping_rounds=None,\n",
              "             enable_categorical=False, eval_metric=None, feature_types=None,\n",
              "             gamma=0, grow_policy=None, importance_type=None,\n",
              "             interaction_constraints=None, learning_rate=0.1, max_bin=None,\n",
              "             max_cat_threshold=None, max_cat_to_onehot=None,\n",
              "             max_delta_step=None, max_depth=3, max_leaves=None,\n",
              "             min_child_weight=3, missing=nan, monotone_constraints=None,\n",
              "             multi_strategy=None, n_estimators=1000, n_jobs=-1,\n",
              "             num_parallel_tree=None, random_state=None, ...)</pre></div></div></div></div></div>"
            ],
            "text/plain": [
              "XGBRegressor(base_score=None, booster=None, callbacks=None,\n",
              "             colsample_bylevel=None, colsample_bynode=None,\n",
              "             colsample_bytree=0.8, device=None, early_stopping_rounds=None,\n",
              "             enable_categorical=False, eval_metric=None, feature_types=None,\n",
              "             gamma=0, grow_policy=None, importance_type=None,\n",
              "             interaction_constraints=None, learning_rate=0.1, max_bin=None,\n",
              "             max_cat_threshold=None, max_cat_to_onehot=None,\n",
              "             max_delta_step=None, max_depth=3, max_leaves=None,\n",
              "             min_child_weight=3, missing=nan, monotone_constraints=None,\n",
              "             multi_strategy=None, n_estimators=1000, n_jobs=-1,\n",
              "             num_parallel_tree=None, random_state=None, ...)"
            ]
          },
          "execution_count": 11,
          "metadata": {},
          "output_type": "execute_result"
        }
      ],
      "source": [
        "regr_xgb = xgb.XGBRegressor(\n",
        "    learning_rate=0.1, n_estimators=1000, max_depth=3, min_child_weight=3,\n",
        "    gamma=0, subsample=0.8, reg_alpha=200, reg_lambda=200, colsample_bytree=0.8, n_jobs=-1\n",
        ")\n",
        "regr_xgb.fit(x_train, y_train)"
      ]
    },
    {
      "cell_type": "code",
      "execution_count": 12,
      "id": "bd9c5166-70d2-41db-bb76-7713937536a9",
      "metadata": {
        "ExecuteTime": {
          "end_time": "2023-10-04T01:34:04.623859300Z",
          "start_time": "2023-10-04T01:34:03.401980700Z"
        },
        "id": "bd9c5166-70d2-41db-bb76-7713937536a9"
      },
      "outputs": [
        {
          "name": "stdout",
          "output_type": "stream",
          "text": [
            "168.04553550344372\n"
          ]
        }
      ],
      "source": [
        "# Predicting on train & test data using our trained XgBoost regressor model\n",
        "y_train_pred_xgb = regr_xgb.predict(x_train)\n",
        "mse_train_xgb = mean_squared_error(y_train, y_train_pred_xgb)\n",
        "\n",
        "y_pred_xgb = regr_xgb.predict(x_test)\n",
        "mse_xgb = mean_squared_error(y_test, y_pred_xgb)\n",
        "\n",
        "print(mse_xgb)"
      ]
    },
    {
      "cell_type": "code",
      "execution_count": 16,
      "id": "c6e28fad",
      "metadata": {},
      "outputs": [
        {
          "name": "stdout",
          "output_type": "stream",
          "text": [
            "Training MSE (XGBoost): 158.25163804732728\n",
            "Test MSE (XGBoost): 168.04553550344372\n"
          ]
        }
      ],
      "source": [
        "print(\"Training MSE (XGBoost):\", mse_train_xgb)\n",
        "print(\"Test MSE (XGBoost):\", mse_xgb)"
      ]
    },
    {
      "cell_type": "markdown",
      "id": "3a41aaec-1d9c-4ecd-adc2-17d1c5278b0f",
      "metadata": {
        "id": "3a41aaec-1d9c-4ecd-adc2-17d1c5278b0f"
      },
      "source": [
        "### Feed forward NN: MLP"
      ]
    },
    {
      "cell_type": "code",
      "execution_count": 13,
      "id": "f1a03ec2-4adc-44df-803f-faa8b7ad8ecf",
      "metadata": {
        "ExecuteTime": {
          "end_time": "2023-10-04T01:34:10.891558700Z",
          "start_time": "2023-10-04T01:34:05.282876200Z"
        },
        "id": "f1a03ec2-4adc-44df-803f-faa8b7ad8ecf"
      },
      "outputs": [
        {
          "data": {
            "text/html": [
              "<style>#sk-container-id-3 {color: black;}#sk-container-id-3 pre{padding: 0;}#sk-container-id-3 div.sk-toggleable {background-color: white;}#sk-container-id-3 label.sk-toggleable__label {cursor: pointer;display: block;width: 100%;margin-bottom: 0;padding: 0.3em;box-sizing: border-box;text-align: center;}#sk-container-id-3 label.sk-toggleable__label-arrow:before {content: \"▸\";float: left;margin-right: 0.25em;color: #696969;}#sk-container-id-3 label.sk-toggleable__label-arrow:hover:before {color: black;}#sk-container-id-3 div.sk-estimator:hover label.sk-toggleable__label-arrow:before {color: black;}#sk-container-id-3 div.sk-toggleable__content {max-height: 0;max-width: 0;overflow: hidden;text-align: left;background-color: #f0f8ff;}#sk-container-id-3 div.sk-toggleable__content pre {margin: 0.2em;color: black;border-radius: 0.25em;background-color: #f0f8ff;}#sk-container-id-3 input.sk-toggleable__control:checked~div.sk-toggleable__content {max-height: 200px;max-width: 100%;overflow: auto;}#sk-container-id-3 input.sk-toggleable__control:checked~label.sk-toggleable__label-arrow:before {content: \"▾\";}#sk-container-id-3 div.sk-estimator input.sk-toggleable__control:checked~label.sk-toggleable__label {background-color: #d4ebff;}#sk-container-id-3 div.sk-label input.sk-toggleable__control:checked~label.sk-toggleable__label {background-color: #d4ebff;}#sk-container-id-3 input.sk-hidden--visually {border: 0;clip: rect(1px 1px 1px 1px);clip: rect(1px, 1px, 1px, 1px);height: 1px;margin: -1px;overflow: hidden;padding: 0;position: absolute;width: 1px;}#sk-container-id-3 div.sk-estimator {font-family: monospace;background-color: #f0f8ff;border: 1px dotted black;border-radius: 0.25em;box-sizing: border-box;margin-bottom: 0.5em;}#sk-container-id-3 div.sk-estimator:hover {background-color: #d4ebff;}#sk-container-id-3 div.sk-parallel-item::after {content: \"\";width: 100%;border-bottom: 1px solid gray;flex-grow: 1;}#sk-container-id-3 div.sk-label:hover label.sk-toggleable__label {background-color: #d4ebff;}#sk-container-id-3 div.sk-serial::before {content: \"\";position: absolute;border-left: 1px solid gray;box-sizing: border-box;top: 0;bottom: 0;left: 50%;z-index: 0;}#sk-container-id-3 div.sk-serial {display: flex;flex-direction: column;align-items: center;background-color: white;padding-right: 0.2em;padding-left: 0.2em;position: relative;}#sk-container-id-3 div.sk-item {position: relative;z-index: 1;}#sk-container-id-3 div.sk-parallel {display: flex;align-items: stretch;justify-content: center;background-color: white;position: relative;}#sk-container-id-3 div.sk-item::before, #sk-container-id-3 div.sk-parallel-item::before {content: \"\";position: absolute;border-left: 1px solid gray;box-sizing: border-box;top: 0;bottom: 0;left: 50%;z-index: -1;}#sk-container-id-3 div.sk-parallel-item {display: flex;flex-direction: column;z-index: 1;position: relative;background-color: white;}#sk-container-id-3 div.sk-parallel-item:first-child::after {align-self: flex-end;width: 50%;}#sk-container-id-3 div.sk-parallel-item:last-child::after {align-self: flex-start;width: 50%;}#sk-container-id-3 div.sk-parallel-item:only-child::after {width: 0;}#sk-container-id-3 div.sk-dashed-wrapped {border: 1px dashed gray;margin: 0 0.4em 0.5em 0.4em;box-sizing: border-box;padding-bottom: 0.4em;background-color: white;}#sk-container-id-3 div.sk-label label {font-family: monospace;font-weight: bold;display: inline-block;line-height: 1.2em;}#sk-container-id-3 div.sk-label-container {text-align: center;}#sk-container-id-3 div.sk-container {/* jupyter's `normalize.less` sets `[hidden] { display: none; }` but bootstrap.min.css set `[hidden] { display: none !important; }` so we also need the `!important` here to be able to override the default hidden behavior on the sphinx rendered scikit-learn.org. See: https://github.com/scikit-learn/scikit-learn/issues/21755 */display: inline-block !important;position: relative;}#sk-container-id-3 div.sk-text-repr-fallback {display: none;}</style><div id=\"sk-container-id-3\" class=\"sk-top-container\"><div class=\"sk-text-repr-fallback\"><pre>MLPRegressor(early_stopping=True, hidden_layer_sizes=[50, 25], random_state=33)</pre><b>In a Jupyter environment, please rerun this cell to show the HTML representation or trust the notebook. <br />On GitHub, the HTML representation is unable to render, please try loading this page with nbviewer.org.</b></div><div class=\"sk-container\" hidden><div class=\"sk-item\"><div class=\"sk-estimator sk-toggleable\"><input class=\"sk-toggleable__control sk-hidden--visually\" id=\"sk-estimator-id-3\" type=\"checkbox\" checked><label for=\"sk-estimator-id-3\" class=\"sk-toggleable__label sk-toggleable__label-arrow\">MLPRegressor</label><div class=\"sk-toggleable__content\"><pre>MLPRegressor(early_stopping=True, hidden_layer_sizes=[50, 25], random_state=33)</pre></div></div></div></div></div>"
            ],
            "text/plain": [
              "MLPRegressor(early_stopping=True, hidden_layer_sizes=[50, 25], random_state=33)"
            ]
          },
          "execution_count": 13,
          "metadata": {},
          "output_type": "execute_result"
        }
      ],
      "source": [
        "regr_mlp = MLPRegressor(\n",
        "        hidden_layer_sizes=[50, 25],\n",
        "        activation='relu',\n",
        "        solver='adam',\n",
        "        early_stopping=True,\n",
        "        random_state=33\n",
        ")\n",
        "regr_mlp.fit(x_train, y_train)"
      ]
    },
    {
      "cell_type": "code",
      "execution_count": 14,
      "id": "a2ac35bf-6c6f-42ad-b439-5c7a5483f50e",
      "metadata": {
        "ExecuteTime": {
          "end_time": "2023-10-04T01:34:10.982984Z",
          "start_time": "2023-10-04T01:34:10.863587Z"
        },
        "id": "a2ac35bf-6c6f-42ad-b439-5c7a5483f50e"
      },
      "outputs": [
        {
          "name": "stdout",
          "output_type": "stream",
          "text": [
            "163.90548439517625\n"
          ]
        }
      ],
      "source": [
        "y_train_pred_mlp = regr_mlp.predict(x_train)\n",
        "mse_train_mlp = mean_squared_error(y_train, y_train_pred_mlp)\n",
        "\n",
        "y_pred_mlp = regr_mlp.predict(x_test)\n",
        "mse_mlp = mean_squared_error(y_test, y_pred_mlp)\n",
        "\n",
        "print(mse_mlp)"
      ]
    },
    {
      "cell_type": "code",
      "execution_count": 17,
      "id": "600aa4fe",
      "metadata": {},
      "outputs": [
        {
          "name": "stdout",
          "output_type": "stream",
          "text": [
            "Training MSE (MLP): 166.36158474862742\n",
            "Test MSE (MLP): 163.90548439517625\n"
          ]
        }
      ],
      "source": [
        "print(\"Training MSE (MLP):\", mse_train_mlp)\n",
        "print(\"Test MSE (MLP):\", mse_mlp)"
      ]
    },
    {
      "cell_type": "markdown",
      "id": "NAHvwI7NGIdJ",
      "metadata": {
        "id": "NAHvwI7NGIdJ"
      },
      "source": [
        "### Q1 (5pts): Which model is the most over-fit to its training data?"
      ]
    },
    {
      "cell_type": "markdown",
      "id": "YkNTN_Hr-JIr",
      "metadata": {
        "id": "YkNTN_Hr-JIr"
      },
      "source": [
        "Random Forest is most over-fit to its training data.\n"
      ]
    },
    {
      "cell_type": "markdown",
      "id": "1e8f0920",
      "metadata": {},
      "source": [
        "| Model                      | Type       | Test MSE     | Train MSE    | Difference   | Over-fit |\n",
        "|---------------------------|------------|--------------|--------------|--------------|-----------|\n",
        "| Random Forest             | Regression | 166.6214814  | 83.25426762  | 83.36721378  | Significant |\n",
        "| XGBoost                   | Regression | 168.0455355  | 158.25163805 | 9.79389755   | Moderate |\n",
        "| Feed Forward NN: MLP      | Regression | 163.9054844  | 166.36158475 | -2.45610035  | Minimal |\n",
        "\n"
      ]
    },
    {
      "cell_type": "markdown",
      "id": "ves7_17gPYhD",
      "metadata": {
        "id": "ves7_17gPYhD"
      },
      "source": [
        "### Q2 (5pts): Is AUC an appropriate metric to evaluate these models?  Why or why not?"
      ]
    },
    {
      "cell_type": "markdown",
      "id": "Wgv9SSYa-KB9",
      "metadata": {
        "id": "Wgv9SSYa-KB9"
      },
      "source": [
        "No, AUC is not an appropriate metric for evaluating regression models. AUC is specifically designed for classification tasks, particularly for binary classification problems."
      ]
    },
    {
      "cell_type": "markdown",
      "id": "e0ed8139",
      "metadata": {},
      "source": [
        "- AUC measures how well a model can tell the difference between categories (like yes/no), not continuous numbers (like prices or temperatures).\n",
        "- Regression models give continuous predictions, while AUC needs clear categories. Changing continuous predictions into categories can lose important details.\n",
        "- For regression it's better to use metrics like MSE, MAE, or R squared which show how close the predictions are to the actual values."
      ]
    },
    {
      "cell_type": "markdown",
      "id": "beca7353bf70a9be",
      "metadata": {
        "collapsed": false,
        "id": "beca7353bf70a9be"
      },
      "source": [
        "# Global Explanability"
      ]
    },
    {
      "cell_type": "markdown",
      "id": "AvMjwDY2ZMP5",
      "metadata": {
        "id": "AvMjwDY2ZMP5"
      },
      "source": [
        "## Random Forest Feature Importance"
      ]
    },
    {
      "cell_type": "markdown",
      "id": "pnNRyt4-NkHv",
      "metadata": {
        "id": "pnNRyt4-NkHv"
      },
      "source": [
        "### Q3 (5pts): Why is it important to look the overall predictive power of a model before looking at feature importance for that model?"
      ]
    },
    {
      "cell_type": "markdown",
      "id": "ZyLtedDX-MKw",
      "metadata": {
        "id": "ZyLtedDX-MKw"
      },
      "source": [
        "- Checking the overall predictive power tells you how well the model performs in making predictions. If the model isn't good overall, knowing which features are important won’t be very helpful.\n",
        "- If the model’s performance is low, you might need to improve the model itself before worrying about which features contribute to its decisions. It helps to prioritize your efforts effectively.\n",
        "- Knowing how well the model works first gives you context when looking at feature importance. You can better understand how much each feature actually influences the predictions compared to the model’s overall performance."
      ]
    },
    {
      "cell_type": "markdown",
      "id": "jvvbXhCgOHKi",
      "metadata": {
        "id": "jvvbXhCgOHKi"
      },
      "source": [
        "### Q4 (5pts): How could you validate that these regression models are providing any predictive power at all? [you do not have to write code to answer this question]"
      ]
    },
    {
      "cell_type": "markdown",
      "id": "EN44CZ_9-Npz",
      "metadata": {
        "id": "EN44CZ_9-Npz"
      },
      "source": [
        "- I could split my dataset into training and testing sets. I'd train my model on the training set and then test it on the testing set. If my model's predictions are better than random guessing on the test data, that shows it has some predictive power.\n",
        "- I could calculate performance metrics like Mean Squared Error (MSE) or Mean Absolute Error (MAE). If the errors are low, it means my model is making good predictions.\n",
        "- Maybe create a simple baseline model like predicting the average value of the target variable. If my regression models do better than this baseline, it proves they have real predictive ability."
      ]
    },
    {
      "cell_type": "code",
      "execution_count": 18,
      "id": "13606aa8-fc39-42dd-be33-5e17d151d2c0",
      "metadata": {
        "ExecuteTime": {
          "end_time": "2023-10-04T01:33:59.403490600Z",
          "start_time": "2023-10-04T01:33:59.363855600Z"
        },
        "id": "13606aa8-fc39-42dd-be33-5e17d151d2c0"
      },
      "outputs": [],
      "source": [
        "def plot_feature_importance(importance,names,model_type):\n",
        "\n",
        "    #Create arrays from feature importance and feature names\n",
        "    feature_importance = np.array(importance)\n",
        "    feature_names = np.array(names)\n",
        "\n",
        "    #Create a DataFrame using a Dictionary\n",
        "    data={'feature_names':feature_names,'feature_importance':feature_importance}\n",
        "    fi_df = pd.DataFrame(data)\n",
        "\n",
        "    #Sort the DataFrame in order decreasing feature importance\n",
        "    fi_df.sort_values(by=['feature_importance'], ascending=False,inplace=True)\n",
        "\n",
        "    #Define size of bar plot\n",
        "    plt.figure(figsize=(10,8))\n",
        "    #Plot Searborn bar chart\n",
        "    sns.barplot(x=fi_df['feature_importance'], y=fi_df['feature_names'])\n",
        "    #Add chart labels\n",
        "    plt.title(model_type + ':  FEATURE IMPORTANCE')\n",
        "    plt.xlabel('FEATURE IMPORTANCE')\n",
        "    plt.ylabel('FEATURE NAMES')"
      ]
    },
    {
      "cell_type": "code",
      "execution_count": 19,
      "id": "3d777ec8dab414bc",
      "metadata": {
        "ExecuteTime": {
          "end_time": "2023-10-04T16:14:34.423562300Z",
          "start_time": "2023-10-04T16:14:34.376601600Z"
        },
        "id": "3d777ec8dab414bc"
      },
      "outputs": [],
      "source": [
        "def permutation_based_feature_importance(x_test, y_test, initial_mse, model):\n",
        "\n",
        "    # Initialize an array to store feature importances\n",
        "    feature_importances = np.zeros(x_test.shape[1])\n",
        "\n",
        "    # Number of permutation iterations (you can adjust this value)\n",
        "    num_iterations = 100\n",
        "\n",
        "    # Calculate feature importance by permuting one feature at a time\n",
        "    ####################### CODE HERE ############################\n",
        "    for feature in range(x_test.shape[1]):\n",
        "        print('Permuting feature ',feature + 1)\n",
        "        # Copy the original test data\n",
        "        x_test_permuted = x_test.copy()\n",
        "\n",
        "        # Shuffle the values of the current feature\n",
        "        permuted_column = x_test_permuted.iloc[:, feature]\n",
        "        np.random.shuffle(permuted_column)\n",
        "        x_test_permuted.iloc[:, feature] = permuted_column\n",
        "\n",
        "        # Calculate the accuracy with the permuted feature\n",
        "        permuted_mse = mean_squared_error(y_test, model.predict(x_test_permuted))\n",
        "\n",
        "        # Calculate the drop in accuracy and store it as feature importance\n",
        "        feature_importances[feature] = initial_mse - permuted_mse\n",
        "\n",
        "    # Normalize the feature importances\n",
        "    feature_importances /= feature_importances.sum()\n",
        "\n",
        "    # Get the names of the features (assuming X is a DataFrame)\n",
        "    feature_names = x_test.columns\n",
        "\n",
        "    # Sort features by importance\n",
        "    sorted_idx = np.argsort(feature_importances)\n",
        "\n",
        "    return feature_importances[sorted_idx]"
      ]
    },
    {
      "cell_type": "code",
      "execution_count": 22,
      "id": "0d199d31-77f8-4354-8365-27fadbc24384",
      "metadata": {
        "ExecuteTime": {
          "end_time": "2023-10-04T01:33:59.667552700Z",
          "start_time": "2023-10-04T01:33:59.380367500Z"
        },
        "id": "0d199d31-77f8-4354-8365-27fadbc24384"
      },
      "outputs": [
        {
          "data": {
            "image/png": "[encoded data removed]",
            "text/plain": [
              "<Figure size 1000x800 with 1 Axes>"
            ]
          },
          "metadata": {},
          "output_type": "display_data"
        }
      ],
      "source": [
        "plot_feature_importance(regr_rf.feature_importances_,x_train.columns,'RANDOM FOREST')"
      ]
    },
    {
      "cell_type": "code",
      "execution_count": 23,
      "id": "3c66f0056aafb2e5",
      "metadata": {
        "ExecuteTime": {
          "end_time": "2023-10-04T16:21:09.513177700Z",
          "start_time": "2023-10-04T16:15:31.981342200Z"
        },
        "id": "3c66f0056aafb2e5"
      },
      "outputs": [
        {
          "name": "stdout",
          "output_type": "stream",
          "text": [
            "Permuting feature  1\n",
            "Permuting feature  2\n",
            "Permuting feature  3\n",
            "Permuting feature  4\n",
            "Permuting feature  5\n",
            "Permuting feature  6\n",
            "Permuting feature  7\n",
            "Permuting feature  8\n",
            "Permuting feature  9\n"
          ]
        }
      ],
      "source": [
        "permutation_based_feature_importance_rf = permutation_based_feature_importance(x_train, y_train, mse_train_rf, regr_rf)\n",
        "# takes a looot of time to run so run mutliple times only if needed"
      ]
    },
    {
      "cell_type": "code",
      "execution_count": 24,
      "id": "243f267fb728c9a8",
      "metadata": {
        "ExecuteTime": {
          "end_time": "2023-10-04T16:21:09.723448100Z",
          "start_time": "2023-10-04T16:21:09.519578400Z"
        },
        "id": "243f267fb728c9a8"
      },
      "outputs": [
        {
          "data": {
            "image/png": "[encoded data removed]",
            "text/plain": [
              "<Figure size 1000x800 with 1 Axes>"
            ]
          },
          "metadata": {},
          "output_type": "display_data"
        }
      ],
      "source": [
        "plot_feature_importance(permutation_based_feature_importance_rf,x_train.columns,'Random Forest: Permutation Based')"
      ]
    },
    {
      "cell_type": "markdown",
      "id": "UaUPRnqqJPCc",
      "metadata": {
        "id": "UaUPRnqqJPCc"
      },
      "source": [
        "### Q5 (5pts): Is the `weekday` feature important to the `regr_rf` model?"
      ]
    },
    {
      "cell_type": "markdown",
      "id": "pjyiC30Z-RNB",
      "metadata": {
        "id": "pjyiC30Z-RNB"
      },
      "source": [
        "No. According to the plot, the regr_rf model gives it an importance score of close to 0."
      ]
    },
    {
      "cell_type": "markdown",
      "id": "63cuxY8hLlvz",
      "metadata": {
        "id": "63cuxY8hLlvz"
      },
      "source": [
        "### Q6 (5pts): Is the `weekday` feature important to predicting the target?"
      ]
    },
    {
      "cell_type": "markdown",
      "id": "Tj9qwz_D-R6o",
      "metadata": {
        "id": "Tj9qwz_D-R6o"
      },
      "source": [
        "Yes! The permutation based feature importance plot shows that the weekday feature is actually quite important for predicting the target variable. This suggests that the weekday feature is being ignored by the regr_rf model"
      ]
    },
    {
      "cell_type": "markdown",
      "id": "Lssc2DmpLmOs",
      "metadata": {
        "id": "Lssc2DmpLmOs"
      },
      "source": [
        "### Q7 (10pts): Is the `.feature_importances_` of the `regr_rf` model reliable?  Why or why not?  [hint](https://scikit-learn.org/stable/auto_examples/inspection/plot_permutation_importance.html)"
      ]
    },
    {
      "cell_type": "markdown",
      "id": "yELmafVY-VE8",
      "metadata": {
        "id": "yELmafVY-VE8"
      },
      "source": [
        "No. The .feature_importances_ attribute of the regr_rf model is not reliable in this case. It indicates that the weekday feature is not important, while permutation feature importance shows the opposite. This suggests that the model is not learning the true importance of weekday and may be overfitting."
      ]
    },
    {
      "cell_type": "markdown",
      "id": "sNJduNzVUVqO",
      "metadata": {
        "id": "sNJduNzVUVqO"
      },
      "source": [
        "### Q8 (5pts): Are there any highly correlated features in this dataset?  Which ones?"
      ]
    },
    {
      "cell_type": "markdown",
      "id": "Hz-JH_8w-Wz2",
      "metadata": {
        "id": "Hz-JH_8w-Wz2"
      },
      "source": [
        "Based on the plots, exp_avg and ft_1 are likely to be highly correlated. The feature importance for ft_1 is much lower using permutation feature importance, suggesting that exp_avg is likely dominating the relationship between ft_1 and the target."
      ]
    },
    {
      "cell_type": "markdown",
      "id": "GIxUcQjMUvh7",
      "metadata": {
        "id": "GIxUcQjMUvh7"
      },
      "source": [
        "### Q9 (5pts): What is the impact of highly correlated features on the analysis of feature importance for these models?"
      ]
    },
    {
      "cell_type": "markdown",
      "id": "MU70h7P--ZEj",
      "metadata": {
        "id": "MU70h7P--ZEj"
      },
      "source": [
        "Highly correlated features can make it difficult to determine which feature is truly responsible for the relationship with the target. In this case, the .feature_importances_ attribute of regr_rf is likely giving more credit to exp_avg for the relationship, even though ft_1 may also be relevant. Permutation feature importance breaks the relationships between features which can help to identify these situations. In this case it shows that ft_1 likely does have some predictive power and is not just piggybacking on the importance of exp_avg."
      ]
    },
    {
      "cell_type": "markdown",
      "id": "ieTSsXkSZcVn",
      "metadata": {
        "id": "ieTSsXkSZcVn"
      },
      "source": [
        "## Random Forest Feature Analysis"
      ]
    },
    {
      "cell_type": "code",
      "execution_count": 25,
      "id": "d514e8a4bc55365d",
      "metadata": {
        "ExecuteTime": {
          "end_time": "2023-10-04T16:23:19.554696100Z",
          "start_time": "2023-10-04T16:23:19.507650100Z"
        },
        "id": "d514e8a4bc55365d"
      },
      "outputs": [],
      "source": [
        "from sklearn.inspection import PartialDependenceDisplay"
      ]
    },
    {
      "cell_type": "code",
      "execution_count": 26,
      "id": "29aa736f87b42c55",
      "metadata": {
        "ExecuteTime": {
          "end_time": "2023-10-04T18:17:59.353264400Z",
          "start_time": "2023-10-04T18:17:55.696737200Z"
        },
        "id": "29aa736f87b42c55"
      },
      "outputs": [
        {
          "data": {
            "image/png": "[encoded data removed]",
            "text/plain": [
              "<Figure size 900x800 with 6 Axes>"
            ]
          },
          "metadata": {},
          "output_type": "display_data"
        }
      ],
      "source": [
        "common_params = {\n",
        "    \"subsample\": 50,\n",
        "    \"n_jobs\": 2,\n",
        "    \"grid_resolution\": 20,\n",
        "    \"random_state\": 0,\n",
        "}\n",
        "\n",
        "features_info = {\n",
        "    # features of interest\n",
        "    \"features\": [\"exp_avg\", 'weekday', 'ft_1', 'ft_2', (\"exp_avg\", 'weekday'), (\"exp_avg\", 'ft_2')],\n",
        "    # type of partial dependence plot\n",
        "    \"kind\": \"average\"\n",
        "}\n",
        "\n",
        "_, ax = plt.subplots(ncols=2, nrows=3, figsize=(9, 8), constrained_layout=True)\n",
        "display = PartialDependenceDisplay.from_estimator(\n",
        "    regr_rf,\n",
        "    x_train,\n",
        "    **features_info,\n",
        "    ax=ax,\n",
        "    **common_params,\n",
        ")\n",
        "\n",
        "_ = display.figure_.suptitle((\"Partial dependence - Random Forest\"),fontsize=16)"
      ]
    },
    {
      "cell_type": "markdown",
      "id": "e23d3cd7d14fc4fa",
      "metadata": {
        "collapsed": false,
        "id": "e23d3cd7d14fc4fa"
      },
      "source": [
        "### Q8 (5pts): Explain the partial dependence plot of 'exp_avg'."
      ]
    },
    {
      "cell_type": "markdown",
      "id": "UOkinxTb-b4E",
      "metadata": {
        "id": "UOkinxTb-b4E"
      },
      "source": [
        "The partial dependence plot for exp_avg shows that the predicted value increases as the value of exp_avg increases. The relationship is not linear, suggesting that the model has learned a more complex relationship between exp_avg and the target variable. The plot indicates that increasing the exp_avg value, the predicted value of the target also tends to increase."
      ]
    },
    {
      "cell_type": "markdown",
      "id": "3188786aed60d7da",
      "metadata": {
        "collapsed": false,
        "id": "3188786aed60d7da"
      },
      "source": [
        "### Q9 (10pts): Is there any interaction between 'exp_avg' and 'weekday'? How about 'exp_avg' and 'ft_2'?\n"
      ]
    },
    {
      "cell_type": "markdown",
      "id": "NWwaTG7s-ceE",
      "metadata": {
        "id": "NWwaTG7s-ceE"
      },
      "source": [
        "There is no interaction between exp_avg and weekday. The partial dependence plot for weekday shows a flat line, meaning that the predicted value is independent of the value of weekday. On the other hand, there is a strong interaction between exp_avg and ft_2. The partial dependence plot for exp_avg and ft_2 shows that the effect of exp_avg on the predicted value changes significantly depending on the value of ft_2. This suggests that the model has learned a complex relationship between these two features."
      ]
    },
    {
      "cell_type": "code",
      "execution_count": 27,
      "id": "X8Wz6n9vOY-O",
      "metadata": {
        "id": "X8Wz6n9vOY-O"
      },
      "outputs": [
        {
          "name": "stdout",
          "output_type": "stream",
          "text": [
            "Requirement already satisfied: shap in c:\\users\\chavali\\anaconda3\\envs\\cloud_computing\\lib\\site-packages (0.46.0)\n",
            "Requirement already satisfied: numpy in c:\\users\\chavali\\anaconda3\\envs\\cloud_computing\\lib\\site-packages (from shap) (1.23.5)\n",
            "Requirement already satisfied: scipy in c:\\users\\chavali\\anaconda3\\envs\\cloud_computing\\lib\\site-packages (from shap) (1.10.1)\n",
            "Requirement already satisfied: scikit-learn in c:\\users\\chavali\\anaconda3\\envs\\cloud_computing\\lib\\site-packages (from shap) (1.3.2)\n",
            "Requirement already satisfied: pandas in c:\\users\\chavali\\anaconda3\\envs\\cloud_computing\\lib\\site-packages (from shap) (1.5.3)\n",
            "Requirement already satisfied: tqdm>=4.27.0 in c:\\users\\chavali\\anaconda3\\envs\\cloud_computing\\lib\\site-packages (from shap) (4.66.5)\n",
            "Requirement already satisfied: packaging>20.9 in c:\\users\\chavali\\anaconda3\\envs\\cloud_computing\\lib\\site-packages (from shap) (24.1)\n",
            "Requirement already satisfied: slicer==0.0.8 in c:\\users\\chavali\\anaconda3\\envs\\cloud_computing\\lib\\site-packages (from shap) (0.0.8)\n",
            "Requirement already satisfied: numba in c:\\users\\chavali\\anaconda3\\envs\\cloud_computing\\lib\\site-packages (from shap) (0.56.4)\n",
            "Requirement already satisfied: cloudpickle in c:\\users\\chavali\\anaconda3\\envs\\cloud_computing\\lib\\site-packages (from shap) (3.0.0)\n",
            "Requirement already satisfied: colorama in c:\\users\\chavali\\anaconda3\\envs\\cloud_computing\\lib\\site-packages (from tqdm>=4.27.0->shap) (0.4.6)\n",
            "Requirement already satisfied: llvmlite<0.40,>=0.39.0dev0 in c:\\users\\chavali\\anaconda3\\envs\\cloud_computing\\lib\\site-packages (from numba->shap) (0.39.1)\n",
            "Requirement already satisfied: setuptools in c:\\users\\chavali\\anaconda3\\envs\\cloud_computing\\lib\\site-packages (from numba->shap) (72.1.0)\n",
            "Requirement already satisfied: python-dateutil>=2.8.1 in c:\\users\\chavali\\anaconda3\\envs\\cloud_computing\\lib\\site-packages (from pandas->shap) (2.9.0.post0)\n",
            "Requirement already satisfied: pytz>=2020.1 in c:\\users\\chavali\\anaconda3\\envs\\cloud_computing\\lib\\site-packages (from pandas->shap) (2024.1)\n",
            "Requirement already satisfied: joblib>=1.1.1 in c:\\users\\chavali\\anaconda3\\envs\\cloud_computing\\lib\\site-packages (from scikit-learn->shap) (1.4.2)\n",
            "Requirement already satisfied: threadpoolctl>=2.0.0 in c:\\users\\chavali\\anaconda3\\envs\\cloud_computing\\lib\\site-packages (from scikit-learn->shap) (3.5.0)\n",
            "Requirement already satisfied: six>=1.5 in c:\\users\\chavali\\anaconda3\\envs\\cloud_computing\\lib\\site-packages (from python-dateutil>=2.8.1->pandas->shap) (1.16.0)\n"
          ]
        }
      ],
      "source": [
        "!pip install shap"
      ]
    },
    {
      "cell_type": "code",
      "execution_count": 28,
      "id": "8616d33a4cb70945",
      "metadata": {
        "id": "8616d33a4cb70945"
      },
      "outputs": [],
      "source": [
        "import shap"
      ]
    },
    {
      "cell_type": "code",
      "execution_count": null,
      "id": "b3cfc77d3fd0dd28",
      "metadata": {
        "ExecuteTime": {
          "end_time": "2023-10-04T16:41:15.338861900Z",
          "start_time": "2023-10-04T16:41:12.848625Z"
        },
        "id": "b3cfc77d3fd0dd28"
      },
      "outputs": [],
      "source": [
        "explainer_rf = shap.Explainer(regr_rf, x_train)"
      ]
    },
    {
      "cell_type": "code",
      "execution_count": null,
      "id": "EzO_H59xoWzQ",
      "metadata": {
        "id": "EzO_H59xoWzQ"
      },
      "outputs": [],
      "source": [
        "shap_values_rf = explainer_rf(x_test[0:1000])"
      ]
    },
    {
      "cell_type": "code",
      "execution_count": null,
      "id": "d4939690357a86fc",
      "metadata": {
        "ExecuteTime": {
          "end_time": "2023-10-04T16:41:16.989146400Z",
          "start_time": "2023-10-04T16:41:16.788412400Z"
        },
        "id": "d4939690357a86fc"
      },
      "outputs": [],
      "source": [
        "shap.summary_plot(shap_values_rf, x_test[0:1000])"
      ]
    },
    {
      "cell_type": "markdown",
      "id": "B8fq67SWsdXv",
      "metadata": {
        "collapsed": false,
        "id": "B8fq67SWsdXv"
      },
      "source": [
        "### Q10 (5pts): Is `weekday` showing as an important factor on prediction explanations via SHAP?\n"
      ]
    },
    {
      "cell_type": "markdown",
      "id": "olu9sgrG-wPd",
      "metadata": {
        "id": "olu9sgrG-wPd"
      },
      "source": []
    },
    {
      "cell_type": "markdown",
      "id": "qvT9DlQGv-mU",
      "metadata": {
        "id": "qvT9DlQGv-mU"
      },
      "source": [
        "## XGBoost Feature Importance"
      ]
    },
    {
      "cell_type": "code",
      "execution_count": null,
      "id": "a2fd7310-fc29-4e36-848f-673df9da1ae3",
      "metadata": {
        "ExecuteTime": {
          "end_time": "2023-10-04T01:34:04.627604400Z",
          "start_time": "2023-10-04T01:34:03.977464200Z"
        },
        "id": "a2fd7310-fc29-4e36-848f-673df9da1ae3"
      },
      "outputs": [],
      "source": [
        "plot_feature_importance(regr_xgb.feature_importances_,x_train.columns,'XGBoost')"
      ]
    },
    {
      "cell_type": "code",
      "execution_count": null,
      "id": "7919d454ba2ecd94",
      "metadata": {
        "ExecuteTime": {
          "end_time": "2023-10-04T16:47:20.483070900Z",
          "start_time": "2023-10-04T16:41:36.671944500Z"
        },
        "id": "7919d454ba2ecd94"
      },
      "outputs": [],
      "source": [
        "permutation_based_feature_importance_xgb = permutation_based_feature_importance(x_train, y_train, mse_train_xgb, regr_xgb)\n",
        "\n",
        "plot_feature_importance(permutation_based_feature_importance_xgb,x_train.columns,'XGBoost: Permutation Based')"
      ]
    },
    {
      "cell_type": "markdown",
      "id": "JCYXsAu2V5Qc",
      "metadata": {
        "collapsed": false,
        "id": "JCYXsAu2V5Qc"
      },
      "source": [
        "### Q11 (10pts): Based on the permutation-method feature importance chart for the XGBoost model, would you recommend that the model take out the less influential variables ft_1, ft_2, ft_3, ft_4, and ft_5 ?  Why or why not?\n"
      ]
    },
    {
      "cell_type": "markdown",
      "id": "WnSTQqIu-zPx",
      "metadata": {
        "id": "WnSTQqIu-zPx"
      },
      "source": []
    },
    {
      "cell_type": "markdown",
      "id": "LWctH3HWwJym",
      "metadata": {
        "id": "LWctH3HWwJym"
      },
      "source": [
        "## XGBoost Feature Analysis"
      ]
    },
    {
      "cell_type": "code",
      "execution_count": null,
      "id": "c91f9ba582d8836c",
      "metadata": {
        "ExecuteTime": {
          "end_time": "2023-10-04T16:48:58.600659Z",
          "start_time": "2023-10-04T16:47:20.488960300Z"
        },
        "id": "c91f9ba582d8836c"
      },
      "outputs": [],
      "source": [
        "_, ax = plt.subplots(ncols=2, nrows=3, figsize=(9, 8), constrained_layout=True)\n",
        "display = PartialDependenceDisplay.from_estimator(\n",
        "    regr_xgb,\n",
        "    x_train,\n",
        "    **features_info,\n",
        "    ax=ax,\n",
        "    **common_params,\n",
        ")\n",
        "\n",
        "_ = display.figure_.suptitle((\"Partial dependence - XGBoost\"),fontsize=16)"
      ]
    },
    {
      "cell_type": "code",
      "execution_count": null,
      "id": "a81379c5bbdef70b",
      "metadata": {
        "ExecuteTime": {
          "end_time": "2023-10-04T16:48:59.568884400Z",
          "start_time": "2023-10-04T16:48:58.606609800Z"
        },
        "id": "a81379c5bbdef70b"
      },
      "outputs": [],
      "source": [
        "explainer_xgb = shap.Explainer(regr_xgb, x_train)\n",
        "shap_values_xgb = explainer_xgb(x_test[0:100])"
      ]
    },
    {
      "cell_type": "code",
      "execution_count": null,
      "id": "eb0d4b082ba45553",
      "metadata": {
        "ExecuteTime": {
          "end_time": "2023-10-04T16:48:59.773738900Z",
          "start_time": "2023-10-04T16:48:59.573265700Z"
        },
        "id": "eb0d4b082ba45553"
      },
      "outputs": [],
      "source": [
        "shap.summary_plot(shap_values_xgb, x_test[0:100])"
      ]
    },
    {
      "cell_type": "markdown",
      "id": "zI2aXxixwQLM",
      "metadata": {
        "id": "zI2aXxixwQLM"
      },
      "source": [
        "## MLP Feature Importance"
      ]
    },
    {
      "cell_type": "code",
      "execution_count": null,
      "id": "393b9426-3d04-4c6f-8495-b22766380a7e",
      "metadata": {
        "ExecuteTime": {
          "end_time": "2023-10-04T16:54:49.425147600Z",
          "start_time": "2023-10-04T16:48:59.915808700Z"
        },
        "id": "393b9426-3d04-4c6f-8495-b22766380a7e"
      },
      "outputs": [],
      "source": [
        "permutation_based_feature_importance_mlp = permutation_based_feature_importance(x_train, y_train, mse_train_mlp, regr_mlp)\n",
        "\n",
        "plot_feature_importance(permutation_based_feature_importance_mlp,x_train.columns,'MLP: Permutation Based')"
      ]
    },
    {
      "cell_type": "markdown",
      "id": "mq9CLDj2wjT7",
      "metadata": {
        "id": "mq9CLDj2wjT7"
      },
      "source": [
        "## MLP Feature Analysis"
      ]
    },
    {
      "cell_type": "code",
      "execution_count": null,
      "id": "4e78562b16004df8",
      "metadata": {
        "ExecuteTime": {
          "end_time": "2023-10-04T18:18:42.378237700Z",
          "start_time": "2023-10-04T18:18:14.165476700Z"
        },
        "id": "4e78562b16004df8"
      },
      "outputs": [],
      "source": [
        "_, ax = plt.subplots(ncols=2, nrows=3, figsize=(9, 8), constrained_layout=True)\n",
        "display = PartialDependenceDisplay.from_estimator(\n",
        "    regr_mlp,\n",
        "    x_train,\n",
        "    **features_info,\n",
        "    ax=ax,\n",
        "    **common_params,\n",
        ")\n",
        "\n",
        "_ = display.figure_.suptitle((\"Partial dependence - MLP\"),fontsize=16)"
      ]
    },
    {
      "cell_type": "code",
      "execution_count": null,
      "id": "98e4d778-2521-4d26-ace4-325f27357a2d",
      "metadata": {
        "ExecuteTime": {
          "end_time": "2023-10-04T16:55:35.378846Z",
          "start_time": "2023-10-04T16:55:21.778352700Z"
        },
        "id": "98e4d778-2521-4d26-ace4-325f27357a2d"
      },
      "outputs": [],
      "source": [
        "# for NN, we use 'KernelExplainer', but it's very very slow. So we use 'shap.sample' to sample a subset.\n",
        "n_samples = 100\n",
        "explainer_mlp = shap.KernelExplainer(regr_mlp.predict, shap.sample(x_train, n_samples))"
      ]
    },
    {
      "cell_type": "code",
      "execution_count": null,
      "id": "ADZKRI4lNvnC",
      "metadata": {
        "id": "ADZKRI4lNvnC"
      },
      "outputs": [],
      "source": [
        "shap_values_mlp = explainer_mlp(x_test[0:100])"
      ]
    },
    {
      "cell_type": "code",
      "execution_count": null,
      "id": "1b2b1ba050fbc28b",
      "metadata": {
        "ExecuteTime": {
          "end_time": "2023-10-04T16:55:35.581731Z",
          "start_time": "2023-10-04T16:55:35.379898500Z"
        },
        "id": "1b2b1ba050fbc28b"
      },
      "outputs": [],
      "source": [
        "shap.summary_plot(shap_values_mlp, x_test[0:100])"
      ]
    },
    {
      "cell_type": "markdown",
      "id": "1905d4f51d920687",
      "metadata": {
        "collapsed": false,
        "id": "1905d4f51d920687"
      },
      "source": [
        "# Local Explainability"
      ]
    },
    {
      "cell_type": "markdown",
      "id": "giTvbLqcLqVD",
      "metadata": {
        "id": "giTvbLqcLqVD"
      },
      "source": [
        "## Random Forest SHAP"
      ]
    },
    {
      "cell_type": "code",
      "execution_count": null,
      "id": "xP_YLi9wz26f",
      "metadata": {
        "id": "xP_YLi9wz26f"
      },
      "outputs": [],
      "source": [
        "x_test[:1]"
      ]
    },
    {
      "cell_type": "code",
      "execution_count": null,
      "id": "5LOEV9yp3emq",
      "metadata": {
        "id": "5LOEV9yp3emq"
      },
      "outputs": [],
      "source": [
        "print('Actual:', y_test['target'].iloc[0], 'Random Forest:', y_pred_rf[:1], 'XGBoost:', y_pred_xgb[:1], 'MLP:', y_pred_mlp[:1])"
      ]
    },
    {
      "cell_type": "code",
      "execution_count": null,
      "id": "8uQbJ2AIBgu8",
      "metadata": {
        "id": "8uQbJ2AIBgu8"
      },
      "outputs": [],
      "source": [
        "shap.plots.waterfall(shap_values_rf[0])"
      ]
    },
    {
      "cell_type": "code",
      "execution_count": null,
      "id": "adf86a33ba84db9d",
      "metadata": {
        "ExecuteTime": {
          "end_time": "2023-10-04T16:41:18.623078Z",
          "start_time": "2023-10-04T16:41:18.372721200Z"
        },
        "id": "adf86a33ba84db9d"
      },
      "outputs": [],
      "source": [
        "shap.plots.bar(shap_values_rf[0])"
      ]
    },
    {
      "cell_type": "markdown",
      "id": "vwIhTQf2Lccg",
      "metadata": {
        "id": "vwIhTQf2Lccg"
      },
      "source": [
        "### Q12 (5pts): What is the difference between the plots shown by `shap.plots.waterfall` and `shap.plots.bar`?"
      ]
    },
    {
      "cell_type": "markdown",
      "id": "niGFrGBa-4NR",
      "metadata": {
        "id": "niGFrGBa-4NR"
      },
      "source": []
    },
    {
      "cell_type": "code",
      "execution_count": null,
      "id": "IWoILkZbMv0s",
      "metadata": {
        "id": "IWoILkZbMv0s"
      },
      "outputs": [],
      "source": [
        "shap.plots.waterfall(shap_values_xgb[0])"
      ]
    },
    {
      "cell_type": "code",
      "execution_count": null,
      "id": "TG_mi5G4MUMn",
      "metadata": {
        "id": "TG_mi5G4MUMn"
      },
      "outputs": [],
      "source": [
        "shap.plots.waterfall(shap_values_mlp[0])"
      ]
    },
    {
      "cell_type": "markdown",
      "id": "FtiK2lwQh63M",
      "metadata": {
        "id": "FtiK2lwQh63M"
      },
      "source": [
        "### Q13 (5pts): How is it possible that two models (like the XGBoost and MLP models above) can have very similar permutation feature importance but very different SHAP explanations for the same data point?"
      ]
    },
    {
      "cell_type": "markdown",
      "id": "c1Dl9X1B-6pH",
      "metadata": {
        "id": "c1Dl9X1B-6pH"
      },
      "source": []
    },
    {
      "cell_type": "code",
      "execution_count": null,
      "id": "7a94eb84f0e699ae",
      "metadata": {
        "id": "7a94eb84f0e699ae"
      },
      "outputs": [],
      "source": [
        "test_prediction = x_test[0:1].assign(lon=-95.369804,lat=29.760427)\n",
        "test_prediction"
      ]
    },
    {
      "cell_type": "code",
      "execution_count": null,
      "id": "PSHvlXmkaaj2",
      "metadata": {
        "id": "PSHvlXmkaaj2"
      },
      "outputs": [],
      "source": [
        "shap_values_test = explainer_xgb(test_prediction)\n",
        "shap.plots.waterfall(shap_values_test[0])"
      ]
    },
    {
      "cell_type": "markdown",
      "id": "oslCQ6rYcnZH",
      "metadata": {
        "id": "oslCQ6rYcnZH"
      },
      "source": [
        "### Q14 (5pts): Are feature effects independent from each other in our SHAP XGBoost explainer?"
      ]
    },
    {
      "cell_type": "markdown",
      "id": "gaobAnpI-8qE",
      "metadata": {
        "id": "gaobAnpI-8qE"
      },
      "source": []
    },
    {
      "cell_type": "markdown",
      "id": "DpSVBtr3dJkJ",
      "metadata": {
        "id": "DpSVBtr3dJkJ"
      },
      "source": [
        "### Q15 (5pts): `lon=-95.369804,lat=29.760427` is Houston, TX.  What would a data scientist need to do to create good explanations for this region?"
      ]
    },
    {
      "cell_type": "markdown",
      "id": "Pcz2FLjN-9NK",
      "metadata": {
        "id": "Pcz2FLjN-9NK"
      },
      "source": []
    }
  ],
  "metadata": {
    "colab": {
      "provenance": [],
      "toc_visible": true
    },
    "kernelspec": {
      "display_name": "Python 3 (ipykernel)",
      "language": "python",
      "name": "python3"
    },
    "language_info": {
      "codemirror_mode": {
        "name": "ipython",
        "version": 3
      },
      "file_extension": ".py",
      "mimetype": "text/x-python",
      "name": "python",
      "nbconvert_exporter": "python",
      "pygments_lexer": "ipython3",
      "version": "3.10.14"
    }
  },
  "nbformat": 4,
  "nbformat_minor": 5
}
